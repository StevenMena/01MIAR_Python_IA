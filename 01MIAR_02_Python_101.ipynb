{
 "cells": [
  {
   "cell_type": "markdown",
   "metadata": {
    "slideshow": {
     "slide_type": "slide"
    }
   },
   "source": [
    "\n",
    "\n",
    "\n",
    "\n",
    "<img src=\"img/viu_logo.png\" width=\"200\">\n",
    "\n",
    "## 01MIAR - Introducción a Python 101\n",
    "\n",
    "![logo](img/python_logo.png)\n",
    "\n",
    "*Ivan Fuertes*"
   ]
  },
  {
   "cell_type": "markdown",
   "metadata": {
    "slideshow": {
     "slide_type": "slide"
    }
   },
   "source": [
    "# Sumario\n",
    "\n",
    "[KeyWords](https://docs.python.org/3/reference/lexical_analysis.html#keywords)\n",
    "\n",
    "[Python built-ins](https://docs.python.org/3/library/functions.html)\n",
    "\n",
    "- Comentarios\n",
    "- Variables\n",
    "- Condicionales\n",
    "- Loops\n",
    "- Colecciones (Secuencias)"
   ]
  },
  {
   "cell_type": "markdown",
   "metadata": {
    "slideshow": {
     "slide_type": "slide"
    }
   },
   "source": [
    "# Comentarios\n",
    "- Cualquier caracter tras '#' es ignorado por el intérprete\n",
    "- Ayuda a explicar el código"
   ]
  },
  {
   "cell_type": "code",
   "execution_count": 1,
   "metadata": {
    "slideshow": {
     "slide_type": "fragment"
    }
   },
   "outputs": [
    {
     "name": "stdout",
     "output_type": "stream",
     "text": [
      "Leonardo\n"
     ]
    }
   ],
   "source": [
    "# limpiar cadena de texto\n",
    "text = ' lEonardo '\n",
    "text = text.strip() # eliminar espacios en blanco\n",
    "text = text.title() # capitalizar primera letra\n",
    "print(text)"
   ]
  },
  {
   "cell_type": "markdown",
   "metadata": {
    "slideshow": {
     "slide_type": "slide"
    }
   },
   "source": [
    "# Valores (Literales)\n",
    "## Simples\n",
    "- Enteros\n",
    "- Decimales o punto flotante\n",
    "- Booleano\n",
    "\n",
    "## Compuestos\n",
    "* Inmutables\n",
    "* Mutables\n",
    "\n",
    "# Variables\n",
    "- Referencias a valores"
   ]
  },
  {
   "cell_type": "markdown",
   "metadata": {
    "slideshow": {
     "slide_type": "slide"
    }
   },
   "source": [
    "## Valores (Literales)"
   ]
  },
  {
   "cell_type": "code",
   "execution_count": 2,
   "metadata": {
    "scrolled": true,
    "slideshow": {
     "slide_type": "fragment"
    }
   },
   "outputs": [
    {
     "name": "stdout",
     "output_type": "stream",
     "text": [
      "4\n",
      "4.0\n",
      "Hola VIU!\n",
      "(4, 400)\n"
     ]
    },
    {
     "data": {
      "text/plain": [
       "(5, 5, 6)"
      ]
     },
     "execution_count": 2,
     "metadata": {},
     "output_type": "execute_result"
    }
   ],
   "source": [
    "print(4)            # entero\n",
    "print(4.0)          # coma flotante\n",
    "print(\"Hola VIU!\")  # string\n",
    "print((4,400))       # tupla\n",
    "5,5,6               # tupla"
   ]
  },
  {
   "cell_type": "markdown",
   "metadata": {
    "slideshow": {
     "slide_type": "slide"
    }
   },
   "source": [
    "## Variables\n",
    "- Referencias a valores\n",
    "- La sentencia de asignación es concatenando nombre, \"=\" y el valor"
   ]
  },
  {
   "cell_type": "code",
   "execution_count": 3,
   "metadata": {},
   "outputs": [
    {
     "name": "stdout",
     "output_type": "stream",
     "text": [
      "1\n"
     ]
    }
   ],
   "source": [
    "# asignación de variables\n",
    "a = 1\n",
    "print(a)"
   ]
  },
  {
   "cell_type": "code",
   "execution_count": 2,
   "metadata": {
    "slideshow": {
     "slide_type": "fragment"
    }
   },
   "outputs": [
    {
     "name": "stdout",
     "output_type": "stream",
     "text": [
      "None\n"
     ]
    }
   ],
   "source": [
    "# asignación de variables\n",
    "a = 1                 # entero\n",
    "b = 4.0               # coma flotante\n",
    "c = \"VIU\"             # string\n",
    "d = 10 + 1j           # numero complejo\n",
    "e = True  #False      # boolean\n",
    "f = None              # None\n",
    "\n",
    "#Python deduce automáticamente el tipo de variable con el valor que se le asigna. \n",
    "#La variable None es como el null en java, es un valor que no esta definido, o Nan , \n",
    "\n",
    "print(f)"
   ]
  },
  {
   "cell_type": "markdown",
   "metadata": {
    "slideshow": {
     "slide_type": "subslide"
    }
   },
   "source": [
    "### Las variables también pueden ser visualizadas con print()"
   ]
  },
  {
   "cell_type": "code",
   "execution_count": 5,
   "metadata": {},
   "outputs": [
    {
     "name": "stdout",
     "output_type": "stream",
     "text": [
      "<class 'str'>\n",
      "<class 'int'>\n"
     ]
    }
   ],
   "source": [
    "# tipo de dato de la variable\n",
    "\n",
    "c = 'acelga'\n",
    "print(type(c))\n",
    "\n",
    "c = 5\n",
    "print(type(c))"
   ]
  },
  {
   "cell_type": "code",
   "execution_count": 6,
   "metadata": {
    "slideshow": {
     "slide_type": "fragment"
    }
   },
   "outputs": [
    {
     "name": "stdout",
     "output_type": "stream",
     "text": [
      "1\n",
      "<class 'int'>\n",
      "4.0\n",
      "<class 'float'>\n",
      "5\n",
      "<class 'int'>\n",
      "(10+1j)\n",
      "<class 'complex'>\n",
      "True\n",
      "<class 'bool'>\n",
      "None\n",
      "<class 'NoneType'>\n"
     ]
    }
   ],
   "source": [
    "print(a)\n",
    "print(type(a))\n",
    "\n",
    "print(b)\n",
    "print(type(b))\n",
    "\n",
    "print(c)\n",
    "print(type(c))\n",
    "\n",
    "print(d)\n",
    "print(type(d))\n",
    "\n",
    "print(e)\n",
    "print(type(e))\n",
    "\n",
    "print(f)\n",
    "print(type(f))"
   ]
  },
  {
   "cell_type": "markdown",
   "metadata": {
    "slideshow": {
     "slide_type": "slide"
    }
   },
   "source": [
    "### Operaciones con variables"
   ]
  },
  {
   "cell_type": "code",
   "execution_count": 7,
   "metadata": {},
   "outputs": [
    {
     "name": "stdout",
     "output_type": "stream",
     "text": [
      "500.5\n"
     ]
    }
   ],
   "source": [
    "j = 500\n",
    "k = 0.5\n",
    "print(j + k)"
   ]
  },
  {
   "cell_type": "code",
   "execution_count": 8,
   "metadata": {},
   "outputs": [
    {
     "name": "stdout",
     "output_type": "stream",
     "text": [
      "500.5\n"
     ]
    }
   ],
   "source": [
    "l = j + k\n",
    "print(l)"
   ]
  },
  {
   "cell_type": "code",
   "execution_count": 9,
   "metadata": {},
   "outputs": [
    {
     "name": "stdout",
     "output_type": "stream",
     "text": [
      "2561786309328\n",
      "2561786309104\n",
      "2561786310064\n"
     ]
    }
   ],
   "source": [
    "# identificador de variable\n",
    "print(id(j))\n",
    "print(id(k))\n",
    "print(id(l))"
   ]
  },
  {
   "cell_type": "code",
   "execution_count": 5,
   "metadata": {},
   "outputs": [
    {
     "name": "stdout",
     "output_type": "stream",
     "text": [
      "2135684309648\n",
      "2135684309648\n",
      "2135763786352\n"
     ]
    }
   ],
   "source": [
    "# identificador de variable con mismo id (referencia)\n",
    "a = 200\n",
    "b = 200\n",
    "\n",
    "print(id(a))\n",
    "print(id(b))\n",
    "print(id(2000))\n",
    "\n",
    "#Ejemplo de variables con 200\n",
    "#Los números de –5 a 255 Python los crea por si solo porque son números que pueden \n",
    "#utilizarse más de una vez, debido a esto si declaramos una o más variables entre \n",
    "#esos valores los id serán igual ya que harán referencia a valor ya creado previamente, \n",
    "#con los demás valore se crea un id diferente. "
   ]
  },
  {
   "cell_type": "code",
   "execution_count": 6,
   "metadata": {
    "slideshow": {
     "slide_type": "fragment"
    }
   },
   "outputs": [
    {
     "name": "stdout",
     "output_type": "stream",
     "text": [
      "<class 'type'>\n",
      "23\n"
     ]
    }
   ],
   "source": [
    "# cuidado asignar valores a built-in functions\n",
    "print(type(str))\n",
    "print(str(23))\n",
    "# str = 5                   # built-in reasignado\n",
    "# print(type(str))\n",
    "# print(str(23))"
   ]
  },
  {
   "cell_type": "markdown",
   "metadata": {
    "slideshow": {
     "slide_type": "slide"
    },
    "tags": []
   },
   "source": [
    "### Nombrar variables y palabras reservadas\n",
    "- No se puede poner números delante del nombre de las variables\n",
    "- Evitar o no usar CamelCase (convención), usar snake_case\n",
    "- El lenguaje diferencia entre mayúsculas y minúsculas\n",
    "- Descriptivos y verbosos, explícitos\n",
    "- Uso de \"_\" para separar palabras, snake_case\n",
    "- Hay palabras o métodos reservados -> Built-ins\n",
    "- variables \"privadas\": \"__invisible\"\n",
    "- Asignación mútiple\n"
   ]
  },
  {
   "cell_type": "code",
   "execution_count": 12,
   "metadata": {
    "slideshow": {
     "slide_type": "fragment"
    }
   },
   "outputs": [
    {
     "name": "stdout",
     "output_type": "stream",
     "text": [
      "39 0.3 0.4\n",
      "(39, 0.3, 7, 'VIU')\n",
      "<class 'tuple'>\n"
     ]
    }
   ],
   "source": [
    "# asignacion multiple\n",
    "x, y, z = 39, 0.3, 0.4\n",
    "print(x, y, z)\n",
    "\n",
    "punto = x, y, 7, \"VIU\"   # formar tupla\n",
    "print(punto)\n",
    "print(type(punto))"
   ]
  },
  {
   "cell_type": "markdown",
   "metadata": {
    "slideshow": {
     "slide_type": "fragment"
    }
   },
   "source": [
    "2n = 3"
   ]
  },
  {
   "cell_type": "markdown",
   "metadata": {},
   "source": [
    "## Intercambio de valores, siempre usar esta implementación "
   ]
  },
  {
   "cell_type": "code",
   "execution_count": 7,
   "metadata": {},
   "outputs": [
    {
     "name": "stdout",
     "output_type": "stream",
     "text": [
      "2 - 1\n"
     ]
    }
   ],
   "source": [
    "# intercambio de valores, siempre usar esta implementación \n",
    "a = 1\n",
    "b = 2\n",
    "a, b = b, a\n",
    "print(str(a) + ' - ' + str(b))\n",
    "\n",
    "#Esto puede ser de mucha ayuda, ojo!"
   ]
  },
  {
   "cell_type": "code",
   "execution_count": 9,
   "metadata": {},
   "outputs": [
    {
     "name": "stdout",
     "output_type": "stream",
     "text": [
      "2 - 1\n"
     ]
    }
   ],
   "source": [
    "#iNTERCAMBIO DE VALORES, es lo mismo de arriba pero el camino largo\n",
    "a = 1\n",
    "b = 2\n",
    "\n",
    "c = a\n",
    "a = b\n",
    "b = c\n",
    "print(str(a) + ' - ' + str(b))"
   ]
  },
  {
   "cell_type": "markdown",
   "metadata": {
    "slideshow": {
     "slide_type": "subslide"
    }
   },
   "source": [
    "## Tipos básicos\n",
    "- Numérico\n",
    " - int (10,12,-100), float (1.1, 9.8, -0.121)\n",
    "- string ('cadena', 'hola')\n",
    "- byte (0,1...)\n",
    "- bool (True, False)\n",
    "- Valor nulo (None)"
   ]
  },
  {
   "cell_type": "code",
   "execution_count": null,
   "metadata": {
    "slideshow": {
     "slide_type": "subslide"
    }
   },
   "outputs": [],
   "source": [
    "# asignar un valor a una variable con '='\n",
    "age = \"34\"\n",
    "\n",
    "print(type(age))"
   ]
  },
  {
   "cell_type": "code",
   "execution_count": null,
   "metadata": {},
   "outputs": [],
   "source": [
    "# tipo dinámico\n",
    "age = 34 # legal en Python\n",
    "\n",
    "print(type(age))"
   ]
  },
  {
   "cell_type": "code",
   "execution_count": 10,
   "metadata": {},
   "outputs": [
    {
     "name": "stdout",
     "output_type": "stream",
     "text": [
      "Valor de a = 1 y de b = 2\n"
     ]
    }
   ],
   "source": [
    "# conversiones/casting\n",
    "#Imprimir con variables utilizando f\n",
    "a = 1\n",
    "b = 2\n",
    "# print('Concatenando números: ' + a)\n",
    "# print('Concatenando números: ' + str(a) + ' y ' + str(b))\n",
    "# Anteciendo la f de una cadena de string se puede ocupar variables que no son de tipo string entre corchetes {} \n",
    "print(f\"Valor de a = {a} y de b = {b}\")"
   ]
  },
  {
   "cell_type": "code",
   "execution_count": 11,
   "metadata": {
    "scrolled": true,
    "slideshow": {
     "slide_type": "fragment"
    }
   },
   "outputs": [
    {
     "name": "stdout",
     "output_type": "stream",
     "text": [
      "['34', '21', '2']\n",
      "34\n",
      "3421\n",
      "55\n"
     ]
    }
   ],
   "source": [
    "raw_data = '34-21-2'\n",
    "processed_data = raw_data.split('-')     # lista con numeros\n",
    "#se hace un casting del dato\n",
    "first_number = int(processed_data[0])    # first_number es de tipo int, con valor 34\n",
    "\n",
    "print(processed_data)\n",
    "print(first_number)\n",
    "#Se hace un concatenación de strings\n",
    "print(processed_data[0] + processed_data[1])\n",
    "print(int(processed_data[0]) + int(processed_data[1]))"
   ]
  },
  {
   "cell_type": "markdown",
   "metadata": {
    "slideshow": {
     "slide_type": "subslide"
    }
   },
   "source": [
    "## Operaciones\n",
    "[Python3 precedencia en operaciones](https://docs.python.org/3/reference/expressions.html#operator-precedence)\n",
    "\n",
    "- Combinación de valores, variables y operadores\n",
    "- Operadores y operandos"
   ]
  },
  {
   "cell_type": "markdown",
   "metadata": {
    "slideshow": {
     "slide_type": "subslide"
    }
   },
   "source": [
    "### Operadores Aritméticos\n",
    "| Operador | Desc |\n",
    "|:---------|:-----|\n",
    "| a + b    | Suma |\n",
    "| a - b    | Resta |\n",
    "| a / b    | División |\n",
    "| a // b   | División Entera |\n",
    "| a % b    | Modulo / Resto |\n",
    "| a * b    | Multiplicacion |\n",
    "| a ** b   | Exponencial |"
   ]
  },
  {
   "cell_type": "code",
   "execution_count": 12,
   "metadata": {
    "scrolled": true,
    "slideshow": {
     "slide_type": "fragment"
    }
   },
   "outputs": [
    {
     "name": "stdout",
     "output_type": "stream",
     "text": [
      "x + y =  11.299999999999999\n",
      "x - y =  5.1\n",
      "x * y =  25.419999999999998\n",
      "x / y =  2.6451612903225805\n",
      "x // y =  2.0\n",
      "x % y =  1.9999999999999991\n",
      "x ** y =  680.4918722559745\n"
     ]
    }
   ],
   "source": [
    "x = 8.2\n",
    "y = 3.1\n",
    "\n",
    "print('x + y = ', x + y)\n",
    "print('x - y = ', x - y)\n",
    "print('x * y = ', x * y)\n",
    "print('x / y = ', x / y)\n",
    "print('x // y = ', x // y)\n",
    "print('x % y = ', x % y)\n",
    "print('x ** y = ', x ** y)"
   ]
  },
  {
   "cell_type": "markdown",
   "metadata": {
    "slideshow": {
     "slide_type": "subslide"
    }
   },
   "source": [
    "### Operadores de Comparación\n",
    "\n",
    "| Operador | Desc |\n",
    "|:---------|:-----|\n",
    "| a > b    | Mayor |\n",
    "| a < b    | Menor |\n",
    "| a == b    | Igualdad |\n",
    "| a != b   | Desigualdad |\n",
    "| a >= b    | Mayor o Igual |\n",
    "| a <= b    | Menor o Igual |"
   ]
  },
  {
   "cell_type": "code",
   "execution_count": null,
   "metadata": {
    "slideshow": {
     "slide_type": "fragment"
    }
   },
   "outputs": [],
   "source": [
    "x = 10\n",
    "y = 12\n",
    "\n",
    "print('x > y  es ', x > y)\n",
    "print('x < y  es ', x < y)\n",
    "print('x == y es ', x == y)\n",
    "print('x != y es ', x != y)\n",
    "print('x >= y es ', x >= y)\n",
    "print('x <= y es ', x <= y)"
   ]
  },
  {
   "cell_type": "markdown",
   "metadata": {
    "slideshow": {
     "slide_type": "subslide"
    }
   },
   "source": [
    "### Operadores Lógicos\n",
    "\n",
    "\n",
    "| Operador | Desc |\n",
    "|:---------|:-----|\n",
    "| a and b  | True si ambos son True |\n",
    "| a or b   | True si alguno de los dos es True |\n",
    "| not a    | Negación |"
   ]
  },
  {
   "cell_type": "code",
   "execution_count": null,
   "metadata": {
    "slideshow": {
     "slide_type": "fragment"
    }
   },
   "outputs": [],
   "source": [
    "x = True\n",
    "y = False\n",
    "\n",
    "print('x and y es ', x and y)\n",
    "print('x or y  es', x or y)\n",
    "print('not x   es', not x)"
   ]
  },
  {
   "cell_type": "markdown",
   "metadata": {
    "slideshow": {
     "slide_type": "subslide"
    }
   },
   "source": [
    "### Operadores Bitwise / Binarios\n",
    "\n",
    "| Operador | Desc |\n",
    "|:---------|:-----|\n",
    "| a & b  | And binario |\n",
    "| a \\| b   | Or binario |\n",
    "| a ^ b   | Xor binario |\n",
    "| ~ a    | Not binario |\n",
    "| a >> b   | Desplazamiento binario a derecha |\n",
    "| a << b   | Desplazamiento binario a izquierda |"
   ]
  },
  {
   "cell_type": "code",
   "execution_count": 13,
   "metadata": {
    "scrolled": true,
    "slideshow": {
     "slide_type": "fragment"
    }
   },
   "outputs": [
    {
     "name": "stdout",
     "output_type": "stream",
     "text": [
      "True\n",
      "Not x = -0b1100111\n",
      "x and y = 0b100010\n",
      "x or y = 0b1110111\n",
      "x xor y = 0b1010101\n",
      "x << 2 = 0b110011000\n",
      "x >> 2 = 0b11001\n"
     ]
    }
   ],
   "source": [
    "#Los valores son los mismo pero en diferentes sistemas \n",
    "x = 58 # decimal\n",
    "y = 0x3A # hexadecimal\n",
    "z = 0b00111010 # binario\n",
    "w = 0o72 # octal\n",
    "\n",
    "print(x == y == z == w)\n",
    "\n",
    "x = 0b01100110\n",
    "y = 0b00110011\n",
    "print(\"Not x = \" + bin(~x))\n",
    "print(\"x and y = \" + bin(x & y))\n",
    "print(\"x or y = \" + bin(x | y))\n",
    "print(\"x xor y = \" + bin(x ^ y))\n",
    "print(\"x << 2 = \" + bin(x << 2))\n",
    "print(\"x >> 2 = \" + bin(x >> 2))"
   ]
  },
  {
   "cell_type": "markdown",
   "metadata": {
    "slideshow": {
     "slide_type": "subslide"
    }
   },
   "source": [
    "### Operadores de Asignación\n",
    "\n",
    "| Operador | Desc |\n",
    "|:---------|:-----|\n",
    "| =   | Asignación |\n",
    "| +=  | Suma y asignación |\n",
    "| -=  | Resta y asignación|\n",
    "| *=  | Multiplicación y asignación |\n",
    "| /=  | División y asignación |\n",
    "| %=  | Módulo y asignación |\n",
    "| //= | División entera y asignación |\n",
    "| **= | Exponencial y asignación |\n",
    "| &=  | And y asignación |\n",
    "| \\|=  | Or y asignación |\n",
    "| ^=  | Xor y asignación |\n",
    "| >>= | Despl. Derecha y asignación |\n",
    "| <<= | DEspl. Izquierda y asignación |"
   ]
  },
  {
   "cell_type": "code",
   "execution_count": null,
   "metadata": {
    "slideshow": {
     "slide_type": "fragment"
    }
   },
   "outputs": [],
   "source": [
    "a = 5\n",
    "a += 3   # a = a + 3, no existe a++, ni ++a\n",
    "a += 1\n",
    "print(a)\n",
    "\n",
    "b = 6\n",
    "b -= 2   # b = b - 2\n",
    "print(b)"
   ]
  },
  {
   "cell_type": "markdown",
   "metadata": {
    "slideshow": {
     "slide_type": "subslide"
    }
   },
   "source": [
    "### Operadores de Identidad\n",
    "\n",
    "| Operador | Desc |\n",
    "|:---------|:-----|\n",
    "| a is b  | True si ambos operadores son una referencia al mismo objeto |\n",
    "| a is not b | True si ambos operadores son una referencia a distintos objetos |"
   ]
  },
  {
   "cell_type": "code",
   "execution_count": 14,
   "metadata": {
    "slideshow": {
     "slide_type": "fragment"
    }
   },
   "outputs": [
    {
     "name": "stdout",
     "output_type": "stream",
     "text": [
      "True\n",
      "2135684306384\n",
      "2135684306384\n",
      "True\n",
      "2135763786544\n"
     ]
    }
   ],
   "source": [
    "a = 100\n",
    "b = a\n",
    "print(a is b)\n",
    "print(id(a))\n",
    "print(id(b))\n",
    "\n",
    "c = 300\n",
    "print(a is not c)\n",
    "print(id(c))"
   ]
  },
  {
   "cell_type": "markdown",
   "metadata": {
    "slideshow": {
     "slide_type": "subslide"
    }
   },
   "source": [
    "### Operadores de Pertenencia\n",
    "\n",
    "| Operador | Desc |\n",
    "|:---------|:-----|\n",
    "| a in b  | True si a se encuentra en la secuencia b |\n",
    "| a not in b | True si a no se encuentra en la secuencia b |"
   ]
  },
  {
   "cell_type": "code",
   "execution_count": 15,
   "metadata": {
    "slideshow": {
     "slide_type": "fragment"
    }
   },
   "outputs": [
    {
     "name": "stdout",
     "output_type": "stream",
     "text": [
      "True\n",
      "True\n",
      "True\n",
      "False\n"
     ]
    }
   ],
   "source": [
    "x = 'Hola Mundo'\n",
    "\n",
    "print('H' in x)\n",
    "print('hola' not in x)\n",
    "\n",
    "y = {1:'a',2:'b'}\n",
    "\n",
    "#Este print será True, porque el operador de pertenencia busca solo en las claves, no es los valores de las claves.\n",
    "print(1 in y)\n",
    "print('a' in y)"
   ]
  },
  {
   "cell_type": "markdown",
   "metadata": {
    "slideshow": {
     "slide_type": "slide"
    }
   },
   "source": [
    "# En Python todo son objetos\n",
    "\n",
    "- Cada objeto tiene:\n",
    " - Identidad - Nunca cambia una vez creado, es como la dirección de memoria. Operador **is** compara identidad, función **id()** devuelve identidad.\n",
    " - Tipo - Posibles valores y operaciones. Función **type()** devuelve el tipo. No cambia.\n",
    " - Valor - Mutables e inmutables.\n",
    "- Contenedores, tupla, list, dictionary.\n",
    "- Tipos mutables - list, dictionary, set y clases definidas por el usuario\n",
    "- Tipos inmutables - int, float, decimal, bool, string, tuple y range"
   ]
  },
  {
   "cell_type": "code",
   "execution_count": 16,
   "metadata": {
    "slideshow": {
     "slide_type": "fragment"
    }
   },
   "outputs": [
    {
     "name": "stdout",
     "output_type": "stream",
     "text": [
      "[100, 2, 3]\n",
      "(10, 20, 30)\n"
     ]
    }
   ],
   "source": [
    "list_numbers = [1, 2, 3] #list, mutable\n",
    "tuple_numbers = (10, 20, 30) #tupla, inmutable una vez definida\n",
    "\n",
    "# print(list_numbers[0])\n",
    "# print(tuple_numbers[0])\n",
    "\n",
    "list_numbers[0] = 100\n",
    "#tuple_numbers[0] = 100 \n",
    "\n",
    "print(list_numbers)\n",
    "print(tuple_numbers)"
   ]
  },
  {
   "cell_type": "code",
   "execution_count": 17,
   "metadata": {
    "slideshow": {
     "slide_type": "fragment"
    }
   },
   "outputs": [
    {
     "name": "stdout",
     "output_type": "stream",
     "text": [
      "id of list = 2135764177344  id of tuple = 2135759356992\n",
      "[1, 2, 3, 4, 5, 6]\n",
      "(10, 20, 30, 40, 50, 60)\n",
      "id of list = 2135764177344  id of tuple = 2135759067552\n"
     ]
    }
   ],
   "source": [
    "list_numbers = [1, 2, 3] #list, mutable\n",
    "tuple_numbers = (10, 20, 30) #tupla, inmutable una vez definida\n",
    "\n",
    "print('id of list = ' + str(id(list_numbers)) + '  id of tuple = ' + str(id(tuple_numbers)))\n",
    "\n",
    "list_numbers += [4, 5, 6]  #expand\n",
    "tuple_numbers += (40, 50, 60)\n",
    "\n",
    "print(list_numbers)\n",
    "print(tuple_numbers)\n",
    "\n",
    "print('id of list = ' + str(id(list_numbers)) + '  id of tuple = ' + str(id(tuple_numbers)))"
   ]
  },
  {
   "cell_type": "code",
   "execution_count": 18,
   "metadata": {
    "slideshow": {
     "slide_type": "fragment"
    }
   },
   "outputs": [
    {
     "name": "stdout",
     "output_type": "stream",
     "text": [
      "id of list = 2135763272832  id of list 2 = 2135763272832\n",
      "[1, 2, 3, 4]\n",
      "[1, 2, 3, 4]\n",
      "id of list = 2135763272832  id of list 2 = 2135763272832\n"
     ]
    }
   ],
   "source": [
    "list_numbers = [1, 2, 3] # mutable\n",
    "list_numbers2 = list_numbers  #referencia al mismo espacio de memoria definido anteriormente\n",
    "print('id of list = ' + str(id(list_numbers)) + '  id of list 2 = ' + str(id(list_numbers2)))\n",
    "\n",
    "list_numbers.append(4)\n",
    "print(list_numbers)\n",
    "print(list_numbers2)\n",
    "print('id of list = ' + str(id(list_numbers)) + '  id of list 2 = ' + str(id(list_numbers2)))"
   ]
  },
  {
   "cell_type": "code",
   "execution_count": 19,
   "metadata": {
    "slideshow": {
     "slide_type": "fragment"
    }
   },
   "outputs": [
    {
     "name": "stdout",
     "output_type": "stream",
     "text": [
      "id of text = 2135764107888  id of text 2 = 2135764107888\n",
      "Hola y Adios\n",
      "Hola\n",
      "id of text = 2135764091888  id of text 2 = 2135764107888\n"
     ]
    }
   ],
   "source": [
    "text = \"Hola\" # inmutable\n",
    "text2 = text  # referencia\n",
    "print('id of text = ' + str(id(text)) + '  id of text 2 = ' + str(id(text2)))\n",
    "\n",
    "text += \" y Adios\"\n",
    "print(text)\n",
    "print(text2)\n",
    "print('id of text = ' + str(id(text)) + '  id of text 2 = ' + str(id(text2)))"
   ]
  },
  {
   "cell_type": "code",
   "execution_count": 21,
   "metadata": {
    "scrolled": true,
    "slideshow": {
     "slide_type": "fragment"
    }
   },
   "outputs": [
    {
     "name": "stdout",
     "output_type": "stream",
     "text": [
      "<class 'tuple'>\n",
      "(23, ['Team A', 'Team B', 'Team C'])\n",
      "2135763073152\n",
      "['Team A', 'Team B', 'Team J']\n",
      "(23, ['Team A', 'Team B', 'Team J'])\n",
      "2135763073152\n"
     ]
    }
   ],
   "source": [
    "teams = [\"Team A\", \"Team B\", \"Team C\"] #mutable\n",
    "player = (23, teams) #inmutable\n",
    "\n",
    "print(type(player))\n",
    "print(player)\n",
    "print(id(player))\n",
    "\n",
    "teams[2] = \"Team J\"\n",
    "print(teams)\n",
    "\n",
    "print(player)\n",
    "print(id(player))\n",
    "\n",
    "#Una lista si puede ser mutable por esa razón \n",
    "#si una lista es asignada a otra variable, \n",
    "#esta última tendrá la referencia a la lista declarada inicialmente. "
   ]
  },
  {
   "cell_type": "markdown",
   "metadata": {
    "slideshow": {
     "slide_type": "slide"
    }
   },
   "source": [
    "# Condicionales\n",
    "- Controlar el flujo del programa"
   ]
  },
  {
   "cell_type": "code",
   "execution_count": 22,
   "metadata": {
    "slideshow": {
     "slide_type": "fragment"
    }
   },
   "outputs": [
    {
     "name": "stdout",
     "output_type": "stream",
     "text": [
      "False\n",
      "Valor negativo\n"
     ]
    }
   ],
   "source": [
    "val = -1\n",
    "print(val>0)\n",
    "\n",
    "if val > 0:\n",
    "    print('Valor positivo')\n",
    "else:\n",
    "    print('Valor negativo')"
   ]
  },
  {
   "cell_type": "code",
   "execution_count": 23,
   "metadata": {
    "slideshow": {
     "slide_type": "fragment"
    }
   },
   "outputs": [
    {
     "name": "stdout",
     "output_type": "stream",
     "text": [
      "Valor negativo\n",
      "Valor muy negativo\n"
     ]
    }
   ],
   "source": [
    "val = -50\n",
    "\n",
    "if val > 0:\n",
    "    print('Valor positivo')\n",
    "elif val == 0:\n",
    "    print('Valor nulo')\n",
    "else:\n",
    "    print('Valor negativo')\n",
    "    if val < -10:\n",
    "        print('Valor muy negativo')"
   ]
  },
  {
   "cell_type": "code",
   "execution_count": 24,
   "metadata": {
    "slideshow": {
     "slide_type": "fragment"
    }
   },
   "outputs": [
    {
     "name": "stdout",
     "output_type": "stream",
     "text": [
      "False\n"
     ]
    }
   ],
   "source": [
    "if False:\n",
    "    print('True')\n",
    "else:\n",
    "    print('False')"
   ]
  },
  {
   "cell_type": "markdown",
   "metadata": {
    "slideshow": {
     "slide_type": "subslide"
    }
   },
   "source": [
    "- Indentación para estructurar el código\n",
    "- ':' importante"
   ]
  },
  {
   "cell_type": "code",
   "execution_count": null,
   "metadata": {
    "slideshow": {
     "slide_type": "fragment"
    }
   },
   "outputs": [],
   "source": [
    "val = -3\n",
    "# operador ternario (forma breve if-else)\n",
    "resultado = val if val >= 0 else -val\n",
    "print(resultado)"
   ]
  },
  {
   "cell_type": "code",
   "execution_count": null,
   "metadata": {},
   "outputs": [],
   "source": [
    "val = -3\n",
    "if val >=0:\n",
    "    resultado = val\n",
    "else:\n",
    "    resultado = -val\n",
    "\n",
    "print(resultado)"
   ]
  },
  {
   "cell_type": "markdown",
   "metadata": {
    "slideshow": {
     "slide_type": "subslide"
    }
   },
   "source": [
    "## Concatenación de comparaciones\n",
    "- Se pueden concatenar comparaciones en una misma expresión\n",
    " - 'and': true si ambos son true\n",
    " - 'or': true si al menos uno es true\n",
    " - 'not': niega una expresión (true si era false, false si era true)\n",
    "- 'elif' para comparar tras un 'if'"
   ]
  },
  {
   "cell_type": "code",
   "execution_count": 25,
   "metadata": {
    "slideshow": {
     "slide_type": "fragment"
    }
   },
   "outputs": [
    {
     "name": "stdout",
     "output_type": "stream",
     "text": [
      "Meh\n"
     ]
    }
   ],
   "source": [
    "genre = 'Action'\n",
    "release_date = 2010\n",
    "\n",
    "if genre == 'Comedy' or genre == 'Drama':\n",
    "    print('Good movie!')\n",
    "elif release_date > 1930 and release_date < 1978:\n",
    "    print('Old and bad!')\n",
    "else:\n",
    "    print('Meh')"
   ]
  },
  {
   "cell_type": "markdown",
   "metadata": {
    "slideshow": {
     "slide_type": "subslide"
    }
   },
   "source": [
    "## Comparando variables (== vs is)\n",
    "- '==' compara si el valor de las variables es el mismo\n",
    "- 'is' compara si los objetos en las variables son iguales (referencia de memoria)"
   ]
  },
  {
   "cell_type": "code",
   "execution_count": 26,
   "metadata": {},
   "outputs": [
    {
     "name": "stdout",
     "output_type": "stream",
     "text": [
      "False\n",
      "True\n",
      "2135763787568\n",
      "2135763787536\n"
     ]
    }
   ],
   "source": [
    "a = 1000\n",
    "b = 1000\n",
    "\n",
    "print(a is b)\n",
    "print(a == b)\n",
    "\n",
    "print(id(a))\n",
    "print(id(b))"
   ]
  },
  {
   "cell_type": "code",
   "execution_count": 27,
   "metadata": {
    "slideshow": {
     "slide_type": "fragment"
    }
   },
   "outputs": [
    {
     "name": "stdout",
     "output_type": "stream",
     "text": [
      "False\n",
      "True\n",
      "True\n",
      "id a = 2135764176704 id b = 2135764177088 id c = 2135764176704\n"
     ]
    }
   ],
   "source": [
    "a = [1, 2, 3]  # lista mutable\n",
    "b = [1, 2, 3]\n",
    "c = a\n",
    "print(a is b) # comparando la referencia en las variables\n",
    "print(a == b) # comparando el valor en las variables \n",
    "print(a is c)\n",
    "\n",
    "print('id a = ' + str(id(a)) + ' id b = ' + str(id(b)) + ' id c = ' + str(id(c)))"
   ]
  },
  {
   "cell_type": "markdown",
   "metadata": {
    "slideshow": {
     "slide_type": "subslide"
    }
   },
   "source": [
    "- 0 = False\n",
    "- not 0 = True"
   ]
  },
  {
   "cell_type": "code",
   "execution_count": 31,
   "metadata": {
    "slideshow": {
     "slide_type": "fragment"
    }
   },
   "outputs": [
    {
     "name": "stdout",
     "output_type": "stream",
     "text": [
      "a == true\n",
      "b == 0 == false\n",
      "empty\n"
     ]
    }
   ],
   "source": [
    "a = -10\n",
    "b = 0\n",
    "\n",
    "if a:\n",
    "    print(\"a == true\")\n",
    "    \n",
    "if not b:\n",
    "    print(\"b == 0 == false\")\n",
    "    \n",
    "c = []  \n",
    "#Declarar una variable a None es lo mismo que sea nula, o vacia\n",
    "c = Non\n",
    "\n",
    "if c:\n",
    "    print(\"full\")\n",
    "else:\n",
    "    print(\"empty\")"
   ]
  },
  {
   "cell_type": "markdown",
   "metadata": {
    "slideshow": {
     "slide_type": "slide"
    }
   },
   "source": [
    "# Loops\n",
    "- Vertebran el código\n",
    "- Repeticiones de fragmentos de código\n",
    "- Dos tipos: 'while' y 'for' "
   ]
  },
  {
   "cell_type": "markdown",
   "metadata": {
    "slideshow": {
     "slide_type": "subslide"
    }
   },
   "source": [
    "## for loops\n",
    "- Ideales para iterar código sobre una colección de elementos"
   ]
  },
  {
   "cell_type": "code",
   "execution_count": 32,
   "metadata": {
    "scrolled": true,
    "slideshow": {
     "slide_type": "fragment"
    }
   },
   "outputs": [
    {
     "name": "stdout",
     "output_type": "stream",
     "text": [
      "Matrix\n",
      "The purge\n",
      "Gladiator\n"
     ]
    }
   ],
   "source": [
    "movies = ['Matrix', 'The purge', 'Gladiator']\n",
    "for movie in movies:\n",
    "    print(movie)"
   ]
  },
  {
   "cell_type": "code",
   "execution_count": 33,
   "metadata": {
    "slideshow": {
     "slide_type": "fragment"
    }
   },
   "outputs": [
    {
     "name": "stdout",
     "output_type": "stream",
     "text": [
      "44\n",
      "20\n",
      "6\n"
     ]
    },
    {
     "ename": "NameError",
     "evalue": "name 'elemento' is not defined",
     "output_type": "error",
     "traceback": [
      "\u001b[1;31m---------------------------------------------------------------------------\u001b[0m",
      "\u001b[1;31mNameError\u001b[0m                                 Traceback (most recent call last)",
      "\u001b[1;32m~\\AppData\\Local\\Temp\\ipykernel_36808\\1612278193.py\u001b[0m in \u001b[0;36m<module>\u001b[1;34m\u001b[0m\n\u001b[0;32m      5\u001b[0m \u001b[1;33m\u001b[0m\u001b[0m\n\u001b[0;32m      6\u001b[0m \u001b[1;32mdel\u001b[0m \u001b[0melemento\u001b[0m      \u001b[1;31m# eliminar una variable del entorno\u001b[0m\u001b[1;33m\u001b[0m\u001b[1;33m\u001b[0m\u001b[0m\n\u001b[1;32m----> 7\u001b[1;33m \u001b[0mprint\u001b[0m\u001b[1;33m(\u001b[0m\u001b[0melemento\u001b[0m\u001b[1;33m)\u001b[0m\u001b[1;33m\u001b[0m\u001b[1;33m\u001b[0m\u001b[0m\n\u001b[0m",
      "\u001b[1;31mNameError\u001b[0m: name 'elemento' is not defined"
     ]
    }
   ],
   "source": [
    "# print(elemento)\n",
    "lista = [44, 20, 6]\n",
    "for elemento in lista:\n",
    "    print(elemento)\n",
    "    \n",
    "del elemento      # eliminar una variable del entorno\n",
    "print(elemento)"
   ]
  },
  {
   "cell_type": "code",
   "execution_count": 34,
   "metadata": {},
   "outputs": [
    {
     "data": {
      "text/plain": [
       "range(0, 10)"
      ]
     },
     "execution_count": 34,
     "metadata": {},
     "output_type": "execute_result"
    }
   ],
   "source": [
    "range(10)"
   ]
  },
  {
   "cell_type": "code",
   "execution_count": 35,
   "metadata": {},
   "outputs": [
    {
     "data": {
      "text/plain": [
       "[0, 1, 2, 3, 4, 5, 6, 7, 8, 9]"
      ]
     },
     "execution_count": 35,
     "metadata": {},
     "output_type": "execute_result"
    }
   ],
   "source": [
    "#se puede crear una lista con ele resultado de range, el valor del segundo parametro no es tomado en cuenta!\n",
    "list(range(0, 10))"
   ]
  },
  {
   "cell_type": "code",
   "execution_count": 36,
   "metadata": {
    "slideshow": {
     "slide_type": "fragment"
    }
   },
   "outputs": [
    {
     "name": "stdout",
     "output_type": "stream",
     "text": [
      "[0, 1, 2, 3, 4, 5, 6, 7, 8, 9]\n",
      "[2, 3, 4, 5, 6, 7, 8, 9]\n",
      "[2, 4, 6, 8]\n",
      "[10, 8, 6, 4]\n"
     ]
    }
   ],
   "source": [
    "print(list(range(10)))\n",
    "print(list(range(2, 10)))\n",
    "#Se puede especificar el valor del salto entre cada número del rango\n",
    "print(list(range(2, 10, 2)))\n",
    "print(list(range(10, 2, -2)))"
   ]
  },
  {
   "cell_type": "code",
   "execution_count": 37,
   "metadata": {
    "scrolled": true,
    "slideshow": {
     "slide_type": "fragment"
    }
   },
   "outputs": [
    {
     "name": "stdout",
     "output_type": "stream",
     "text": [
      "0\n",
      "1\n",
      "4\n",
      "9\n",
      "16\n",
      "25\n",
      "36\n",
      "49\n",
      "64\n",
      "81\n"
     ]
    }
   ],
   "source": [
    "#iterar un número fijo de veces\n",
    "#para iterar un bucle un número fijo de veces se ocupa el range\n",
    "n = 10\n",
    "#El rango le dice al for el número de veces que debe iterar i, en este caso cuaso cuando llegue a 9 se sale!\n",
    "for i in range(n):  # de [0 a 9]\n",
    "    print(pow(i,2))"
   ]
  },
  {
   "cell_type": "code",
   "execution_count": 38,
   "metadata": {},
   "outputs": [
    {
     "name": "stdout",
     "output_type": "stream",
     "text": [
      "[0, 1, 2, 3, 4, 5, 6, 7, 8, 9]\n",
      "0\n",
      "2\n",
      "4\n",
      "6\n",
      "8\n"
     ]
    }
   ],
   "source": [
    "#Si solo se especifica un parametro en el rango, este es el número de valore que debe de contener ese rango,\n",
    "#empezando por 0, para este ejemplo sería: [0, 1, 2, 3, 4, 5, 6, 7, 8, 9]\n",
    "lista = list(range(10))\n",
    "print(lista)\n",
    "\n",
    "for i in range(0,10,2):\n",
    "    print(lista[i])"
   ]
  },
  {
   "cell_type": "markdown",
   "metadata": {
    "slideshow": {
     "slide_type": "subslide"
    }
   },
   "source": [
    "## while loop\n",
    "- repetir el código hasta que se deje cumplir una expresión "
   ]
  },
  {
   "cell_type": "code",
   "execution_count": 39,
   "metadata": {},
   "outputs": [
    {
     "name": "stdout",
     "output_type": "stream",
     "text": [
      "1984\n",
      "2000\n",
      "2013\n"
     ]
    }
   ],
   "source": [
    "index = 0\n",
    "release_dates = [1984,2000,2013,2018,2007,1983,1945,1999,2011,2017,1976]\n",
    "\n",
    "while index < 3:\n",
    "    print(release_dates[index])\n",
    "    index += 1  #index = index + 1    "
   ]
  },
  {
   "cell_type": "code",
   "execution_count": 40,
   "metadata": {
    "slideshow": {
     "slide_type": "fragment"
    }
   },
   "outputs": [
    {
     "name": "stdout",
     "output_type": "stream",
     "text": [
      "11\n",
      "1984\n",
      "2000\n",
      "1983\n",
      "3\n",
      "6\n"
     ]
    }
   ],
   "source": [
    "counter = 0\n",
    "index = 0\n",
    "release_dates = [1984,2000,2013,2018,2007,1983,1945,1999,2011,2017,1976]\n",
    "\n",
    "print(len(release_dates))\n",
    "\n",
    "while counter < 3 and index < len(release_dates):\n",
    "    if release_dates[index] < 2001:\n",
    "        print(release_dates[index])\n",
    "        counter += 1\n",
    "    index += 1\n",
    "\n",
    "print(counter)\n",
    "print(index)"
   ]
  },
  {
   "cell_type": "code",
   "execution_count": null,
   "metadata": {
    "slideshow": {
     "slide_type": "fragment"
    }
   },
   "outputs": [],
   "source": [
    "#bucle infinito\n",
    "i = 0\n",
    "while i < 10:\n",
    "    print(i)\n",
    "    # i += 1, al no aumentar el valor de i, este siempre será 0 por ende, siempre será menor que 10"
   ]
  },
  {
   "cell_type": "markdown",
   "metadata": {
    "slideshow": {
     "slide_type": "subslide"
    }
   },
   "source": [
    "- Forzar la salida del loop (válido para 'for' y 'while')"
   ]
  },
  {
   "cell_type": "code",
   "execution_count": null,
   "metadata": {},
   "outputs": [],
   "source": [
    "movie_ratings = [4.9, 2.5, 1.7, 4.2, 3.8, 3.3, 2.9, 4.2]\n",
    "for rating in movie_ratings:\n",
    "    print(rating)\n",
    "    if rating == 4.2:\n",
    "        print(\"Found\")\n",
    "        break"
   ]
  },
  {
   "cell_type": "code",
   "execution_count": 42,
   "metadata": {
    "slideshow": {
     "slide_type": "fragment"
    }
   },
   "outputs": [
    {
     "name": "stdout",
     "output_type": "stream",
     "text": [
      "4.9\n",
      "4.9\n",
      "2.5\n",
      "1.7\n",
      "4.2\n",
      "4.2\n",
      "3.8\n",
      "3.3\n",
      "2.9\n"
     ]
    }
   ],
   "source": [
    "index = 0\n",
    "movie_ratings = [4.9,2.5,1.7,4.2,3.8,3.3,2.9]\n",
    "while True:\n",
    "    print(movie_ratings[index])\n",
    "    if movie_ratings[index] > 4:\n",
    "        print(movie_ratings[index])\n",
    "    index += 1\n",
    "    if index >= len(movie_ratings):\n",
    "        break # break fuerza la salida del loop"
   ]
  },
  {
   "cell_type": "markdown",
   "metadata": {
    "slideshow": {
     "slide_type": "subslide"
    }
   },
   "source": [
    "- 'continue' para saltar una iteración (pero continuar en el loop)"
   ]
  },
  {
   "cell_type": "code",
   "execution_count": 43,
   "metadata": {
    "slideshow": {
     "slide_type": "fragment"
    }
   },
   "outputs": [
    {
     "name": "stdout",
     "output_type": "stream",
     "text": [
      "1\n",
      "3\n",
      "5\n",
      "7\n",
      "9\n"
     ]
    }
   ],
   "source": [
    "for i in range(10):\n",
    "    if i % 2 == 0:\n",
    "        continue # salta a la siguiente iteración\n",
    "    print(i)"
   ]
  },
  {
   "cell_type": "markdown",
   "metadata": {},
   "source": [
    "- 'else' se ejecuta al final si no ha habido ningún 'break'"
   ]
  },
  {
   "cell_type": "code",
   "execution_count": 44,
   "metadata": {},
   "outputs": [
    {
     "name": "stdout",
     "output_type": "stream",
     "text": [
      "0\n",
      "1\n",
      "2\n",
      "3\n",
      "4\n",
      "5\n",
      "Finally finished!\n"
     ]
    }
   ],
   "source": [
    "#El for puede tener un else, y este se ejecuta cuando el for termina!\n",
    "for x in range(6):\n",
    "    print(x)\n",
    "else:\n",
    "    print(\"Finally finished!\")"
   ]
  },
  {
   "cell_type": "code",
   "execution_count": 45,
   "metadata": {},
   "outputs": [
    {
     "name": "stdout",
     "output_type": "stream",
     "text": [
      "not found\n"
     ]
    }
   ],
   "source": [
    "lista = [10,20,30,40]\n",
    "element_to_find = 25\n",
    "\n",
    "# for-else\n",
    "for element in lista:\n",
    "    if element == element_to_find:\n",
    "        print(\"found\")\n",
    "        break\n",
    "else:\n",
    "    print(\"not found\")\n",
    "    \n",
    "    \n",
    "# # with flag\n",
    "# found = False\n",
    "# for element in list:\n",
    "#     if element == element_to_find:\n",
    "#         found = True\n",
    "#         print(\"found\")\n",
    "#         break\n",
    "        \n",
    "# if not found:\n",
    "#     print(\"not found\")\n",
    "    "
   ]
  },
  {
   "cell_type": "markdown",
   "metadata": {
    "slideshow": {
     "slide_type": "slide"
    }
   },
   "source": [
    "# Colecciones\n",
    "- Grupos de elementos en un mismo objeto\n",
    "- Colecciones en Python\n",
    " - Tuplas\n",
    " - Listas\n",
    " - Diccionarios\n",
    " - Sets (conjuntos)\n",
    " - Secuencias"
   ]
  },
  {
   "cell_type": "markdown",
   "metadata": {
    "slideshow": {
     "slide_type": "subslide"
    }
   },
   "source": [
    "## Tuplas\n",
    "- Lista de elementos inmutable\n",
    "- Acceso a través de __[index]__\n",
    "- Índices empiezan van de 0 a n-1\n",
    "- Con ( )\n",
    "- Tipos de datos heterogeneos"
   ]
  },
  {
   "cell_type": "code",
   "execution_count": 46,
   "metadata": {
    "slideshow": {
     "slide_type": "fragment"
    }
   },
   "outputs": [
    {
     "name": "stdout",
     "output_type": "stream",
     "text": [
      "Foo\n",
      "4\n",
      "('Foo', 34, 5.0, 34)\n"
     ]
    }
   ],
   "source": [
    "# crear una tupla\n",
    "tuple1 = ('Foo',34,5.0,34)\n",
    "print(tuple1[0])   # acceso al elemento con índice 0\n",
    "print(len(tuple1)) # elementos en la tupla\n",
    "print(tuple1)      # todos los elementos"
   ]
  },
  {
   "cell_type": "code",
   "execution_count": 47,
   "metadata": {
    "slideshow": {
     "slide_type": "fragment"
    }
   },
   "outputs": [
    {
     "name": "stdout",
     "output_type": "stream",
     "text": [
      "Foo\n",
      "34\n",
      "34\n",
      "Foo\n",
      "<class 'tuple'>\n"
     ]
    }
   ],
   "source": [
    "tuple1 = ('Foo',34,5.0,34)\n",
    "\n",
    "print(tuple1[0]) # 1er elemento\n",
    "print(tuple1[len(tuple1)-1]) #ultimo elemento\n",
    "\n",
    "#ACCEDER A LOS ELEMENTOS DE ATRAS HACIA ADELANTE, -1, -2, -3, ETC..\n",
    "print(tuple1[-1]) # negativos de atras hacia delante\n",
    "print(tuple1[-len(tuple1)]) # primer elemento\n",
    "print(type(tuple1))"
   ]
  },
  {
   "cell_type": "code",
   "execution_count": 14,
   "metadata": {},
   "outputs": [
    {
     "name": "stdout",
     "output_type": "stream",
     "text": [
      "Foo\n",
      "(30, 'Foo', 40, 0.1)\n",
      "<class 'tuple'>\n"
     ]
    }
   ],
   "source": [
    "# empaquetar\n",
    "tuple1 = 30, \"Foo\", 40, 0.1\n",
    "print(tuple1[1])\n",
    "print(tuple1)\n",
    "print(type(tuple1))"
   ]
  },
  {
   "cell_type": "code",
   "execution_count": 50,
   "metadata": {
    "slideshow": {
     "slide_type": "fragment"
    }
   },
   "outputs": [
    {
     "data": {
      "text/plain": [
       "\u001b[1;31mInit signature:\u001b[0m \u001b[0mtuple\u001b[0m\u001b[1;33m(\u001b[0m\u001b[0miterable\u001b[0m\u001b[1;33m=\u001b[0m\u001b[1;33m(\u001b[0m\u001b[1;33m)\u001b[0m\u001b[1;33m,\u001b[0m \u001b[1;33m/\u001b[0m\u001b[1;33m)\u001b[0m\u001b[1;33m\u001b[0m\u001b[1;33m\u001b[0m\u001b[0m\n",
       "\u001b[1;31mDocstring:\u001b[0m     \n",
       "Built-in immutable sequence.\n",
       "\n",
       "If no argument is given, the constructor returns an empty tuple.\n",
       "If iterable is specified the tuple is initialized from iterable's items.\n",
       "\n",
       "If the argument is a tuple, the return value is the same object.\n",
       "\u001b[1;31mType:\u001b[0m           type\n",
       "\u001b[1;31mSubclasses:\u001b[0m     int_info, float_info, UnraisableHookArgs, hash_info, version_info, flags, getwindowsversion, thread_info, asyncgen_hooks, ExceptHookArgs, ...\n"
      ]
     },
     "metadata": {},
     "output_type": "display_data"
    }
   ],
   "source": [
    "# Ayuda de la función. tuple es un built in \n",
    "tuple?\n"
   ]
  },
  {
   "cell_type": "code",
   "execution_count": 58,
   "metadata": {},
   "outputs": [
    {
     "name": "stdout",
     "output_type": "stream",
     "text": [
      "3\n",
      "[4]\n",
      "6\n",
      "<class 'list'>\n"
     ]
    }
   ],
   "source": [
    "#Si se antecede un asterisco antes de la variable, se esta declarado la asignación de los valores \n",
    "#A esa variable como de tipo lista\n",
    "x, *y,z = 3, 4,5, 6\n",
    "print(x)\n",
    "print(y)\n",
    "print(z)\n",
    "print(type(y))"
   ]
  },
  {
   "cell_type": "markdown",
   "metadata": {
    "slideshow": {
     "slide_type": "subslide"
    }
   },
   "source": [
    "### Funciones útiles con tuplas"
   ]
  },
  {
   "cell_type": "code",
   "execution_count": 59,
   "metadata": {
    "slideshow": {
     "slide_type": "fragment"
    }
   },
   "outputs": [
    {
     "name": "stdout",
     "output_type": "stream",
     "text": [
      "2\n",
      "4\n"
     ]
    }
   ],
   "source": [
    "# Contar elementos presentes\n",
    "tuple1 = ('Foo',34,5.0,34)\n",
    "#Cuenta cuantos elementos con valor 34 hay en la tupla\n",
    "print(tuple1.count(34))\n",
    "print(len(tuple1))"
   ]
  },
  {
   "cell_type": "code",
   "execution_count": 51,
   "metadata": {
    "slideshow": {
     "slide_type": "fragment"
    }
   },
   "outputs": [
    {
     "name": "stdout",
     "output_type": "stream",
     "text": [
      "1\n",
      "34\n",
      "0\n"
     ]
    }
   ],
   "source": [
    "# Encontrar el índice de un elemento\n",
    "#devuelve el primer indice de un valor\n",
    "tuple1 = ('Foo',34,5.0,34)\n",
    "indice = tuple1.index(34)\n",
    "print(indice)\n",
    "print(tuple1[indice])\n",
    "\n",
    "tuple2 = (1,2,3,4)\n",
    "print(tuple2.index(1))"
   ]
  },
  {
   "cell_type": "code",
   "execution_count": 60,
   "metadata": {
    "slideshow": {
     "slide_type": "fragment"
    }
   },
   "outputs": [
    {
     "ename": "ValueError",
     "evalue": "tuple.index(x): x not in tuple",
     "output_type": "error",
     "traceback": [
      "\u001b[1;31m---------------------------------------------------------------------------\u001b[0m",
      "\u001b[1;31mValueError\u001b[0m                                Traceback (most recent call last)",
      "\u001b[1;32m~\\AppData\\Local\\Temp\\ipykernel_36808\\654762378.py\u001b[0m in \u001b[0;36m<module>\u001b[1;34m\u001b[0m\n\u001b[0;32m      1\u001b[0m \u001b[1;31m# si el elemento no existe, error\u001b[0m\u001b[1;33m\u001b[0m\u001b[1;33m\u001b[0m\u001b[0m\n\u001b[0;32m      2\u001b[0m \u001b[0mtuple1\u001b[0m \u001b[1;33m=\u001b[0m \u001b[1;33m(\u001b[0m\u001b[1;34m'Foo'\u001b[0m\u001b[1;33m,\u001b[0m\u001b[1;36m34\u001b[0m\u001b[1;33m,\u001b[0m\u001b[1;36m5.0\u001b[0m\u001b[1;33m,\u001b[0m\u001b[1;36m34\u001b[0m\u001b[1;33m)\u001b[0m\u001b[1;33m\u001b[0m\u001b[1;33m\u001b[0m\u001b[0m\n\u001b[1;32m----> 3\u001b[1;33m \u001b[0mprint\u001b[0m\u001b[1;33m(\u001b[0m\u001b[0mtuple1\u001b[0m\u001b[1;33m.\u001b[0m\u001b[0mindex\u001b[0m\u001b[1;33m(\u001b[0m\u001b[1;36m10\u001b[0m\u001b[1;33m)\u001b[0m\u001b[1;33m)\u001b[0m\u001b[1;33m\u001b[0m\u001b[1;33m\u001b[0m\u001b[0m\n\u001b[0m",
      "\u001b[1;31mValueError\u001b[0m: tuple.index(x): x not in tuple"
     ]
    }
   ],
   "source": [
    "# si el elemento no existe, error\n",
    "tuple1 = ('Foo',34,5.0,34)\n",
    "print(tuple1.index(10))"
   ]
  },
  {
   "cell_type": "code",
   "execution_count": 61,
   "metadata": {
    "slideshow": {
     "slide_type": "fragment"
    }
   },
   "outputs": [
    {
     "name": "stdout",
     "output_type": "stream",
     "text": [
      "35 not found\n"
     ]
    }
   ],
   "source": [
    "# comprobar si existe antes \n",
    "#con la palabra reservada in\n",
    "tuple1 = ('Foo',34,5.0,34)\n",
    "\n",
    "elemento = 35\n",
    "if elemento in tuple1:\n",
    "    print(tuple1.index(elemento))\n",
    "else:\n",
    "    print(str(elemento) + ' not found')"
   ]
  },
  {
   "cell_type": "code",
   "execution_count": 64,
   "metadata": {
    "slideshow": {
     "slide_type": "subslide"
    }
   },
   "outputs": [
    {
     "name": "stdout",
     "output_type": "stream",
     "text": [
      "Foo\n",
      "34\n",
      "5.0\n",
      "[5.0, 340]\n",
      "[0, 1, 2, 3, 4, 5, 6, 7, 8, 9]\n",
      "('Foo', 34, 5.0, 340)\n"
     ]
    }
   ],
   "source": [
    "# desempaquetar una tupla\n",
    "#esto es como un la destructuración en JavaScript\n",
    "tuple1 = ('Foo',34,5.0,340)\n",
    "a, b, c, d = tuple1 # a,b,c - a,b,c,d - a,b,_,_\n",
    "x, y, *z = tuple1 # x=Foo, y=34, z= [5.0,340]\n",
    "print(a)\n",
    "print(b)\n",
    "print(c)\n",
    "print(z)\n",
    "print(_)\n",
    "print(tuple1)"
   ]
  },
  {
   "cell_type": "code",
   "execution_count": 65,
   "metadata": {
    "slideshow": {
     "slide_type": "fragment"
    }
   },
   "outputs": [
    {
     "name": "stdout",
     "output_type": "stream",
     "text": [
      "Foo\n",
      "[34, 5.0, 45]\n"
     ]
    }
   ],
   "source": [
    "# desempaquetado parcial\n",
    "tuple1 = ('Foo',34,5.0, 45)\n",
    "a, *resto = tuple1\n",
    "print(a) # primer elemento\n",
    "print(resto) # lista con el resto"
   ]
  },
  {
   "cell_type": "code",
   "execution_count": 2,
   "metadata": {},
   "outputs": [
    {
     "name": "stdout",
     "output_type": "stream",
     "text": [
      "Foo\n",
      "[34, 5.0, 45]\n",
      "<class 'list'>\n"
     ]
    }
   ],
   "source": [
    "# desempaquetado parcial\n",
    "tuple1 = ('Foo',34,5.0,45)\n",
    "a, *_ = tuple1    # ignora el resto\n",
    "\n",
    "print(a) # primer elemento\n",
    "#Lo que se almancena en _ es el resto de la tupla, y como tiene el asterisco se guarda como lista\n",
    "print(_)\n",
    "print(type(_))"
   ]
  },
  {
   "cell_type": "markdown",
   "metadata": {
    "slideshow": {
     "slide_type": "subslide"
    }
   },
   "source": [
    "## Listas\n",
    "- Similar a tuplas, pero con elementos mutables\n",
    "- Índices empiezan van de 0 a n-1\n",
    "- Con [ ]\n",
    "- Tipos de datos heterogeneos"
   ]
  },
  {
   "cell_type": "code",
   "execution_count": 67,
   "metadata": {
    "slideshow": {
     "slide_type": "fragment"
    }
   },
   "outputs": [
    {
     "name": "stdout",
     "output_type": "stream",
     "text": [
      "Pan\n",
      "4\n",
      "['M', 'a', 'n', 'o', 'l', 'o']\n",
      "['Hola', 'mundo']\n",
      "[0, 20, 40, 60, 80]\n",
      "Huevos\n",
      "Pan\n",
      "Leche\n",
      "0\n"
     ]
    }
   ],
   "source": [
    "# crear una lista\n",
    "compra = ['Huevos','Pan','Leche',0]\n",
    "nombre = list('Manolo')\n",
    "palabras = 'Hola mundo'.split()\n",
    "ids = list(range(0,100,20)) # cast a list\n",
    "\n",
    "print(compra[1]) # acceso al segundo elemento\n",
    "print(len(compra)) # elementos en la lista\n",
    "#Ponerle ojo como imprime Manolo\n",
    "print(nombre)\n",
    "print(palabras)\n",
    "print(ids)\n",
    "\n",
    "# iterar sobre los elementos\n",
    "for element in compra:\n",
    "    print(element)"
   ]
  },
  {
   "cell_type": "markdown",
   "metadata": {
    "slideshow": {
     "slide_type": "subslide"
    }
   },
   "source": [
    "### Funciones útiles con listas\n",
    "- Además de 'count' y 'index'\n",
    "- __lista.<tab\\>__ para listado completo"
   ]
  },
  {
   "cell_type": "code",
   "execution_count": 6,
   "metadata": {
    "slideshow": {
     "slide_type": "fragment"
    }
   },
   "outputs": [
    {
     "name": "stdout",
     "output_type": "stream",
     "text": [
      "<class 'list'>\n"
     ]
    }
   ],
   "source": [
    "compra = ['Huevos','Pan','Leche']\n",
    "print(type(compra))\n",
    "# compra."
   ]
  },
  {
   "cell_type": "code",
   "execution_count": 57,
   "metadata": {
    "slideshow": {
     "slide_type": "fragment"
    }
   },
   "outputs": [
    {
     "name": "stdout",
     "output_type": "stream",
     "text": [
      "Print de lista compra: \n",
      "['Huevos', 'Pan', 'Leche', 'Carne']\n",
      "Insert de un elemento en la posición 1: \n",
      "['Huevos', 'Fruta', 'Pan', 'Leche', 'Carne']\n",
      "Concatenación de listas compra + fruta: \n",
      "['Huevos', 'Fruta', 'Pan', 'Leche', 'Carne', 'Pera', 'Manzana', 'Naranja']\n",
      "Extender la lista compra con la lista fruta: \n",
      "['Huevos', 'Fruta', 'Pan', 'Leche', 'Carne', 'Pera', 'Manzana', 'Naranja']\n",
      "Eliminación del elemento Carne: \n",
      "['Huevos', 'Fruta', 'Pan', 'Leche', 'Pera', 'Manzana', 'Naranja']\n",
      "Pop del elemento en la posición -1 o el último de la lista de izquierda a derecha: \n",
      "Naranja\n",
      "['Huevos', 'Fruta', 'Pan', 'Leche', 'Pera', 'Manzana']\n",
      "Copiar una lista: \n",
      "['Huevos', 'Fruta', 'Pan', 'Leche', 'Pera', 'Manzana']\n",
      "id compra = 2994353855552 id compra2 = 2994353683712\n"
     ]
    }
   ],
   "source": [
    "compra = ['Huevos','Pan','Leche']\n",
    "\n",
    "# añadir un elemento\n",
    "#compra.append('Carne')\n",
    "#compra.append('Carne')\n",
    "#compra.append('Carne')\n",
    "if 'Carne' not in compra:\n",
    "    compra.append('Carne')\n",
    "\n",
    "print(\"Print de lista compra: \")\n",
    "print(compra)\n",
    "\n",
    "# insertar elemento\n",
    "print(\"Insert de un elemento en la posición 1: \")\n",
    "compra.insert(1,'Fruta') # añadir en posición\n",
    "print(compra)\n",
    "\n",
    "# concatenar listas\n",
    "fruta = ['Pera','Manzana','Naranja']\n",
    "total = compra + fruta # crea nueva lista con elementos de ambas\n",
    "print(\"Concatenación de listas compra + fruta: \")\n",
    "print(total)\n",
    "\n",
    "print(\"Extender la lista compra con la lista fruta: \")\n",
    "compra.extend(fruta) # añade elementos (sin crear nueva lista)\n",
    "print(compra)\n",
    "\n",
    "print(\"Eliminación del elemento Carne: \")\n",
    "# eliminar un elemento\n",
    "compra.remove('Carne')\n",
    "print(compra)\n",
    "\n",
    "print(\"Pop del elemento en la posición -1 o el último de la lista de izquierda a derecha: \")\n",
    "elemento = compra.pop() # elimina el elemento en posición -1 y lo devuelve\n",
    "print(elemento)\n",
    "print(compra)\n",
    "\n",
    "print(\"Copiar una lista: \")\n",
    "compra2 = compra.copy()\n",
    "print(compra2)\n",
    "print('id compra = ' + str(id(compra)) + ' id compra2 = ' + str(id(compra2)))"
   ]
  },
  {
   "cell_type": "code",
   "execution_count": null,
   "metadata": {
    "slideshow": {
     "slide_type": "fragment"
    }
   },
   "outputs": [],
   "source": []
  },
  {
   "cell_type": "code",
   "execution_count": 88,
   "metadata": {
    "slideshow": {
     "slide_type": "fragment"
    }
   },
   "outputs": [
    {
     "name": "stdout",
     "output_type": "stream",
     "text": [
      "Print de lista compra: \n",
      "['Huevos', 'Pan', 'Leche', 'Carne']\n",
      "Insert de un elemento en la posición 1: \n",
      "['Huevos', 'Fruta', 'Pan', 'Leche', 'Carne']\n",
      "Concatenación de listas compra + fruta: \n",
      "['Huevos', 'Fruta', 'Pan', 'Leche', 'Carne', 'Pera', 'Manzana', 'Naranja']\n",
      "Extender la lista compra con la lista fruta: \n",
      "['Huevos', 'Fruta', 'Pan', 'Leche', 'Carne', 'Pera', 'Manzana', 'Naranja']\n",
      "Eliminación del elemento Carne: \n",
      "['Huevos', 'Fruta', 'Pan', 'Leche', 'Pera', 'Manzana', 'Naranja']\n",
      "Pop del elemento en la posición -1 o el último de la lista de izquierda a derecha: \n",
      "Naranja\n",
      "['Huevos', 'Fruta', 'Pan', 'Leche', 'Pera', 'Manzana']\n",
      "Copiar una lista: \n",
      "['Huevos', 'Fruta', 'Pan', 'Leche', 'Pera', 'Manzana']\n",
      "id compra = 2994358004160 id compra2 = 2994355125888\n",
      "['Pera', 'Manzana', 'Naranja', 'Pera', 'Manzana', 'Naranja', 'Pera', 'Manzana', 'Naranja']\n"
     ]
    }
   ],
   "source": [
    "compra = ['Huevos','Pan','Leche']\n",
    "\n",
    "# añadir un elemento\n",
    "#compra.append('Carne')\n",
    "#compra.append('Carne')\n",
    "#compra.append('Carne')\n",
    "if 'Carne' not in compra:\n",
    "    compra.append('Carne')\n",
    "\n",
    "print(\"Print de lista compra: \")\n",
    "print(compra)\n",
    "\n",
    "# insertar elemento\n",
    "print(\"Insert de un elemento en la posición 1: \")\n",
    "compra.insert(1,'Fruta') # añadir en posición\n",
    "print(compra)\n",
    "\n",
    "# concatenar listas\n",
    "fruta = ['Pera','Manzana','Naranja']\n",
    "total = compra + fruta # crea nueva lista con elementos de ambas\n",
    "print(\"Concatenación de listas compra + fruta: \")\n",
    "print(total)\n",
    "\n",
    "print(\"Extender la lista compra con la lista fruta: \")\n",
    "compra.extend(fruta) # añade elementos (sin crear nueva lista)\n",
    "print(compra)\n",
    "\n",
    "print(\"Eliminación del elemento Carne: \")\n",
    "# eliminar un elemento\n",
    "compra.remove('Carne')\n",
    "print(compra)\n",
    "\n",
    "print(\"Pop del elemento en la posición -1 o el último de la lista de izquierda a derecha: \")\n",
    "elemento = compra.pop() # elimina el elemento en posición -1 y lo devuelve\n",
    "print(elemento)\n",
    "print(compra)\n",
    "\n",
    "print(\"Copiar una lista: \")\n",
    "compra2 = compra.copy()\n",
    "print(compra2)\n",
    "print('id compra = ' + str(id(compra)) + ' id compra2 = ' + str(id(compra2)))\n",
    "\n",
    "fruta2 = fruta * 3\n",
    "print(fruta2)\n"
   ]
  },
  {
   "cell_type": "code",
   "execution_count": 70,
   "metadata": {
    "slideshow": {
     "slide_type": "fragment"
    }
   },
   "outputs": [
    {
     "name": "stdout",
     "output_type": "stream",
     "text": [
      "['Pan', 'Leche', 'Huevos']\n",
      "Huevos\n"
     ]
    }
   ],
   "source": [
    "#Con sort el orden de los elementos dentro de la lista cambian\n",
    "compra = ['Huevos','Pan','Leche']\n",
    "# ordenar una lista\n",
    "compra.sort(reverse=True)\n",
    "print(compra)\n",
    "print(compra[2])\n"
   ]
  },
  {
   "cell_type": "code",
   "execution_count": 71,
   "metadata": {},
   "outputs": [
    {
     "name": "stdout",
     "output_type": "stream",
     "text": [
      "['Huevos', 'Leche', 'Pan']\n",
      "['Huevos', 'Pan', 'Leche']\n",
      "Leche\n"
     ]
    }
   ],
   "source": [
    "#Con sorted el orden de los elementos dentro de la lista no cambian\n",
    "#El sorted solo sirve para ordenar los elementos en el momento, pero la lista no se altera\n",
    "#Es un cambio mas visual.\n",
    "compra = ['Huevos','Pan','Leche']\n",
    "print(sorted(compra))\n",
    "print(compra)\n",
    "print(compra[2])"
   ]
  },
  {
   "cell_type": "markdown",
   "metadata": {
    "slideshow": {
     "slide_type": "subslide"
    }
   },
   "source": [
    "- Cuando se usa 'sort', los tipos de elementos deben ser comparables entre sí\n",
    "  Osea todos los elementos de una lista deben ser del mismo tipo"
   ]
  },
  {
   "cell_type": "code",
   "execution_count": 15,
   "metadata": {
    "slideshow": {
     "slide_type": "fragment"
    }
   },
   "outputs": [
    {
     "ename": "TypeError",
     "evalue": "'<' not supported between instances of 'int' and 'str'",
     "output_type": "error",
     "traceback": [
      "\u001b[1;31m---------------------------------------------------------------------------\u001b[0m",
      "\u001b[1;31mTypeError\u001b[0m                                 Traceback (most recent call last)",
      "\u001b[1;32m~\\AppData\\Local\\Temp\\ipykernel_17380\\3964699727.py\u001b[0m in \u001b[0;36m<module>\u001b[1;34m\u001b[0m\n\u001b[0;32m      1\u001b[0m \u001b[0musers\u001b[0m \u001b[1;33m=\u001b[0m \u001b[1;33m[\u001b[0m\u001b[1;34m'carlos'\u001b[0m\u001b[1;33m,\u001b[0m \u001b[1;36m12321\u001b[0m\u001b[1;33m]\u001b[0m\u001b[1;33m\u001b[0m\u001b[1;33m\u001b[0m\u001b[0m\n\u001b[1;32m----> 2\u001b[1;33m \u001b[0musers\u001b[0m\u001b[1;33m.\u001b[0m\u001b[0msort\u001b[0m\u001b[1;33m(\u001b[0m\u001b[1;33m)\u001b[0m \u001b[1;31m#error! no se puede comparar int y str\u001b[0m\u001b[1;33m\u001b[0m\u001b[1;33m\u001b[0m\u001b[0m\n\u001b[0m",
      "\u001b[1;31mTypeError\u001b[0m: '<' not supported between instances of 'int' and 'str'"
     ]
    }
   ],
   "source": [
    "users = ['carlos', 12321]\n",
    "users.sort() #error! no se puede comparar int y str"
   ]
  },
  {
   "cell_type": "code",
   "execution_count": 72,
   "metadata": {},
   "outputs": [
    {
     "name": "stdout",
     "output_type": "stream",
     "text": [
      "[[1, 2, 2], [2, 2, 2, 3]]\n"
     ]
    }
   ],
   "source": [
    "#En el short entre dos listas se realiza una comparación entre dos listas.\n",
    "#No se tomane en cuenta elemento por elemento,\n",
    "#Sino que se compara la lista como un todo!\n",
    "lista = [[2,2,2,3], [1,2,2]]\n",
    "lista.sort()\n",
    "print(lista)"
   ]
  },
  {
   "cell_type": "markdown",
   "metadata": {
    "slideshow": {
     "slide_type": "subslide"
    }
   },
   "source": [
    "### Pertenencia"
   ]
  },
  {
   "cell_type": "code",
   "execution_count": 73,
   "metadata": {
    "slideshow": {
     "slide_type": "fragment"
    }
   },
   "outputs": [
    {
     "name": "stdout",
     "output_type": "stream",
     "text": [
      "True\n",
      "False\n",
      "Tenemos Perales\n"
     ]
    }
   ],
   "source": [
    "fruta = ['Pera','Manzana','Naranja']\n",
    "print('Naranja' in fruta)\n",
    "print('Mandarina' in fruta)\n",
    "\n",
    "if 'Pera' in fruta:\n",
    "    print('Tenemos Perales')"
   ]
  },
  {
   "cell_type": "markdown",
   "metadata": {
    "slideshow": {
     "slide_type": "subslide"
    }
   },
   "source": [
    "### Alias/Referencias en las listas\n",
    "- Son mutables y las asignaciones a un objeto alteran el primero\n",
    "- Pasar listas a funciones puede suponer un riesgo\n",
    "- Clonar o copiar listas\n"
   ]
  },
  {
   "cell_type": "code",
   "execution_count": 74,
   "metadata": {
    "slideshow": {
     "slide_type": "fragment"
    }
   },
   "outputs": [
    {
     "name": "stdout",
     "output_type": "stream",
     "text": [
      "[2, 4, 16, 32]\n",
      "[2, 4, 64, 32]\n",
      "[2, 4, 64, 32]\n"
     ]
    }
   ],
   "source": [
    "lista = [2, 4, 16, 32]\n",
    "ref = lista\n",
    "print(lista)\n",
    "ref[2] = 64\n",
    "print(ref)\n",
    "print(lista)"
   ]
  },
  {
   "cell_type": "code",
   "execution_count": 76,
   "metadata": {
    "slideshow": {
     "slide_type": "fragment"
    }
   },
   "outputs": [
    {
     "name": "stdout",
     "output_type": "stream",
     "text": [
      "[2, 4, 16, 32]\n",
      "[2, 4, 16, 32]\n",
      "[2, 4, 64, 32]\n"
     ]
    }
   ],
   "source": [
    "lista = [2, 4, 16, 32]\n",
    "\n",
    "copia = lista[:] #, es más común ocupar el slicing para hacer una copia de la lista\n",
    "#copia = lista.copy()\n",
    "print(lista)\n",
    "copia[2] = 64\n",
    "print(lista)\n",
    "print(copia)"
   ]
  },
  {
   "cell_type": "code",
   "execution_count": 17,
   "metadata": {
    "scrolled": true,
    "slideshow": {
     "slide_type": "fragment"
    }
   },
   "outputs": [
    {
     "name": "stdout",
     "output_type": "stream",
     "text": [
      "[2, 4, 16, 32, [34, 10, [5, 5]]]\n",
      "[454, 4, 16, 32, [34, 10, [64, 5]]]\n",
      "2994359062464 - 2994358704448\n",
      "2994355124864 - 2994354040384\n"
     ]
    }
   ],
   "source": [
    "# evitar que listas anidadas se copien por referencia\n",
    "#con copy se copia la referencia a los hijos, por eso se ocupa deepcopy\n",
    "import copy\n",
    "lista = [2, 4, 16, 32, [34, 10, [5,5]]]\n",
    "#copia = lista.copy()\n",
    "#el método deepcopy copia la lista y las sublistas que tiene\n",
    "# Si se hiciera la copia con list.copy() las sublistas serian una referencias\n",
    "copia = copy.deepcopy(lista)\n",
    "copia[0] = 454\n",
    "copia[4][2][0] = 64\n",
    "print(lista)\n",
    "print(copia)\n",
    "\n",
    "print(f\"{id(lista)} - {id(copia)}\")\n",
    "print(f\"{id(lista[4])} - {id(copia[4])}\")"
   ]
  },
  {
   "cell_type": "markdown",
   "metadata": {
    "slideshow": {
     "slide_type": "subslide"
    }
   },
   "source": [
    "### Slicing\n",
    "- Literalmente \"cortar\" una lista\n",
    "- Devuelve una copia de una parte de la lista\n",
    "- Especificada con índices\n",
    "- Forma general: __lista[inicio:fin:paso]__"
   ]
  },
  {
   "cell_type": "code",
   "execution_count": 77,
   "metadata": {
    "slideshow": {
     "slide_type": "fragment"
    }
   },
   "outputs": [
    {
     "name": "stdout",
     "output_type": "stream",
     "text": [
      "[0, 2, 4, 6, 8, 10]\n",
      "[0, 2, 4, 6, 8, 10]\n",
      "2135765181952\n",
      "2135765147712\n",
      "[2, 4]\n",
      "[0, 2, 4, 6, 8]\n",
      "[0, 4, 8]\n"
     ]
    }
   ],
   "source": [
    "lista_completa = list(range(0,12,2)) # lista [0, 2, 4, 6, 8, 10]\n",
    "print(lista_completa)\n",
    "\n",
    "slice1 = lista_completa[:] # lista [0, 2, 4, 6, 8, 10]\n",
    "#aqui devuelve una copia de la lista\n",
    "print(slice1)\n",
    "\n",
    "print(id(lista_completa))\n",
    "print(id(slice1))\n",
    "\n",
    "#del elemento con index 1 al index 2, ya que el 3 es no incluido\n",
    "slice2 = lista_completa[1:3] # lista [2,4]\n",
    "print(slice2)\n",
    "\n",
    "#el -1 es el último elemento de la lista\n",
    "slice3 = lista_completa[0:-1] # lista [0, 2, 4, 6, 8]\n",
    "print(slice3)\n",
    "\n",
    "#recorre toda la lista pero de 2 en 2 \n",
    "slice4 = lista_completa[::2] # lista [0, 4, 8]\n",
    "print(slice4)"
   ]
  },
  {
   "cell_type": "markdown",
   "metadata": {
    "slideshow": {
     "slide_type": "subslide"
    }
   },
   "source": [
    "![slicing](img/clase02a_slicing.JPG)\n",
    "- formas de obtener 'py' de una lista formada por ['p','y','t','h','o','n']"
   ]
  },
  {
   "cell_type": "code",
   "execution_count": 18,
   "metadata": {
    "slideshow": {
     "slide_type": "fragment"
    }
   },
   "outputs": [
    {
     "name": "stdout",
     "output_type": "stream",
     "text": [
      "['p', 'y', 't', 'h', 'o', 'n']\n",
      "['p', 'y']\n",
      "['p', 'y']\n",
      "['p', 'y']\n",
      "['p', 'y']\n"
     ]
    }
   ],
   "source": [
    "# obteniendo 'py'\n",
    "python = list(\"python\")\n",
    "# python = ['p','y','t','h','o','n']\n",
    "print(python)\n",
    "print(python[0:2])\n",
    "print(python[:2])\n",
    "print(python[-6:-4])\n",
    "#este funciona por que se asume que cuando el fin es -4, el inicio es -6\n",
    "print(python[:-4])"
   ]
  },
  {
   "cell_type": "markdown",
   "metadata": {
    "slideshow": {
     "slide_type": "slide"
    }
   },
   "source": [
    "# List comprehension\n",
    "- Una forma sucinta de generar listas o colecciones\n",
    "- Pythonic\n",
    "- https://python-course.eu/python3_list_comprehension.php"
   ]
  },
  {
   "cell_type": "code",
   "execution_count": 19,
   "metadata": {
    "slideshow": {
     "slide_type": "fragment"
    }
   },
   "outputs": [
    {
     "name": "stdout",
     "output_type": "stream",
     "text": [
      "[16, 9, 4, 1, 0, 1, 4, 9, 16]\n"
     ]
    }
   ],
   "source": [
    "# crear una lista transformando valores de otra con for loops\n",
    "final_values = []\n",
    "\n",
    "for x in range(-4,5):\n",
    "    final_values.append(x**2)\n",
    "    \n",
    "print(final_values)"
   ]
  },
  {
   "cell_type": "code",
   "execution_count": null,
   "metadata": {
    "slideshow": {
     "slide_type": "fragment"
    }
   },
   "outputs": [],
   "source": [
    "# con list comprehension\n",
    "#Lo que esta antes del for es el resultado\n",
    "final_values = [x**2 for x in range(-4,5)]\n",
    "print(final_values)"
   ]
  },
  {
   "cell_type": "markdown",
   "metadata": {
    "slideshow": {
     "slide_type": "subslide"
    }
   },
   "source": [
    "### Forma general\n",
    "[<expresión1> if <condición\\> else <expresión2> for value in <colección\\>]\n",
    "- __Expresión1 / expresión2__: cada uno de los elementos que conformará la lista\n",
    "- __Condición__: escoge entre expresión1 y expresión2\n",
    "- __for__ loop: generador de la secuencia"
   ]
  },
  {
   "cell_type": "code",
   "execution_count": 80,
   "metadata": {
    "slideshow": {
     "slide_type": "fragment"
    }
   },
   "outputs": [
    {
     "name": "stdout",
     "output_type": "stream",
     "text": [
      "[1, 4, 9, 16]\n"
     ]
    }
   ],
   "source": [
    "#esta forma es la forma más rápida\n",
    "#el condicional antes del for no forma parte del for\n",
    "# es una condicional para determinar los valores que se van almacenar en la lista\n",
    "#el condicional dentro del for, son los elementos a tomar en cuenta para la lista\n",
    "list1 = [x**2 if x > 0 else x for x in range(-4,5) if x > 0]\n",
    "print(list1)"
   ]
  },
  {
   "cell_type": "code",
   "execution_count": 102,
   "metadata": {
    "slideshow": {
     "slide_type": "fragment"
    }
   },
   "outputs": [
    {
     "name": "stdout",
     "output_type": "stream",
     "text": [
      "{'Banana': 1.1, 'Pear': 1.4, 'Olives': 2.4}\n"
     ]
    }
   ],
   "source": [
    "# similar para diccionarios y sets, pero con {}\n",
    "#zip hace un enganche de pares de las listas por su posición: 0,0, 1,1, etc..\n",
    "items = ['Banana', 'Pear', 'Olives']\n",
    "price = [1.1, 1.4, 2.4]\n",
    "shopping = {k:v for k,v in zip(items,price)}\n",
    "print(shopping)"
   ]
  },
  {
   "cell_type": "code",
   "execution_count": 81,
   "metadata": {},
   "outputs": [
    {
     "name": "stdout",
     "output_type": "stream",
     "text": [
      "<class 'tuple'>\n",
      "('Banana', 1.1)\n",
      "<class 'tuple'>\n",
      "('Pear', 1.4)\n",
      "<class 'tuple'>\n",
      "('Olives', 2.4)\n"
     ]
    }
   ],
   "source": [
    "#\n",
    "items = ['Banana', 'Pear', 'Olives']\n",
    "price = [1.1, 1.4, 2.4]\n",
    "for k in zip(items, price):\n",
    "    print(type(k))\n",
    "    print(k)"
   ]
  },
  {
   "cell_type": "code",
   "execution_count": 82,
   "metadata": {},
   "outputs": [
    {
     "name": "stdout",
     "output_type": "stream",
     "text": [
      "[-4, -3, -2, -1, 100, 1, 4, 9, 16]\n"
     ]
    }
   ],
   "source": [
    "list1 = [x**2 if x > 0 else 100 if x==0 else x for x in range(-4,5)]\n",
    "print(list1)"
   ]
  },
  {
   "cell_type": "markdown",
   "metadata": {
    "slideshow": {
     "slide_type": "subslide"
    }
   },
   "source": [
    "## Secuencias\n",
    "- Formalmente, objetos iterables no materializados\n",
    "- No son listas. 'list()' para materializarla \n",
    "- 'range' es un ejemplo"
   ]
  },
  {
   "cell_type": "code",
   "execution_count": 83,
   "metadata": {
    "slideshow": {
     "slide_type": "fragment"
    }
   },
   "outputs": [
    {
     "name": "stdout",
     "output_type": "stream",
     "text": [
      "Index = 0. Value = 10\n",
      "Index = 1. Value = 20\n",
      "Index = 2. Value = 30\n",
      "Index = 0. Value = 10\n",
      "Index = 1. Value = 20\n",
      "Index = 2. Value = 30\n"
     ]
    }
   ],
   "source": [
    "# enumerate para iterar una colección (índice y valor)\n",
    "#enumerate se ocupa para acceder a los index de los valores de una lista\n",
    "lista = [10, 20, 30]\n",
    "for index, value in enumerate(lista):\n",
    "    print('Index = ' + str(index) + '. Value = ' + str(value))\n",
    "    \n",
    "for index, value in [(0,10), (1,20), (2,30)]:\n",
    "    print('Index = ' + str(index) + '. Value = ' + str(value))    "
   ]
  },
  {
   "cell_type": "code",
   "execution_count": 20,
   "metadata": {
    "slideshow": {
     "slide_type": "fragment"
    }
   },
   "outputs": [
    {
     "name": "stdout",
     "output_type": "stream",
     "text": [
      "Index = 0. Value = 0\n",
      "Index = 1. Value = 2\n",
      "Index = 2. Value = 4\n",
      "Index = 3. Value = 6\n",
      "Index = 4. Value = 8\n",
      "(0, 0)\n",
      "(1, 2)\n",
      "(2, 4)\n",
      "(3, 6)\n",
      "(4, 8)\n"
     ]
    }
   ],
   "source": [
    "# enumerate para iterar una colección (índice y valor)\n",
    "for index, value in enumerate(range(0,10,2)):\n",
    "    print('Index = ' + str(index) + '. Value = ' + str(value))\n",
    "    \n",
    "for value in enumerate(range(0,10,2)):\n",
    "    print(value) "
   ]
  },
  {
   "cell_type": "code",
   "execution_count": 84,
   "metadata": {
    "slideshow": {
     "slide_type": "fragment"
    }
   },
   "outputs": [
    {
     "name": "stdout",
     "output_type": "stream",
     "text": [
      "Nombre: Manolo, edad: 31\n",
      "Nombre: Pepe, edad: 34\n",
      "Nombre: Luis, edad: 34\n"
     ]
    }
   ],
   "source": [
    "# zip para unir, elemento a elemento, dos colecciones, retornando lista de tuplas\n",
    "# útil para iterar dos listas al mismo tiempo\n",
    "nombres = ['Manolo','Pepe','Luis']\n",
    "#si la listas son de diferente size, se toma como base la lista primera en este caso nombres\n",
    "#por esto 45 no se toma en cuenta\n",
    "edades = [31,34,34,45]\n",
    "for nombre,edad in zip(nombres,edades):\n",
    "    print('Nombre: ' + nombre + ', edad: ' + str(edad))"
   ]
  },
  {
   "cell_type": "code",
   "execution_count": null,
   "metadata": {},
   "outputs": [],
   "source": [
    "nombres = ['Manolo','Pepe','Luis']\n",
    "edades = [31,34,34]\n",
    "\n",
    "for i in range(0,3):\n",
    "    print(f\"{nombres[i]} - {edades[i]}\")"
   ]
  },
  {
   "cell_type": "code",
   "execution_count": 21,
   "metadata": {
    "scrolled": true,
    "slideshow": {
     "slide_type": "fragment"
    }
   },
   "outputs": [
    {
     "name": "stdout",
     "output_type": "stream",
     "text": [
      "[('Manolo', 31), ('Pepe', 34), ('Luis', 34)]\n",
      "<class 'zip'>\n"
     ]
    }
   ],
   "source": [
    "nombres = ['Manolo','Pepe','Luis']\n",
    "edades = [31,34,34]\n",
    "jugadores = zip(nombres,edades)   # genera secuencia\n",
    "print(list(jugadores))\n",
    "print(type(jugadores))"
   ]
  },
  {
   "cell_type": "code",
   "execution_count": 85,
   "metadata": {
    "slideshow": {
     "slide_type": "fragment"
    }
   },
   "outputs": [
    {
     "name": "stdout",
     "output_type": "stream",
     "text": [
      "<zip object at 0x000001F145866EC0>\n"
     ]
    }
   ],
   "source": [
    "# listas de diferentes longitudes\n",
    "nombres = ['Manolo','Pepe','Luis']\n",
    "edades = [31,34,34,44,33]\n",
    "jugadores = zip(nombres,edades)\n",
    "#print(list(jugadores))\n",
    "print(jugadores)"
   ]
  },
  {
   "cell_type": "code",
   "execution_count": 88,
   "metadata": {
    "scrolled": true,
    "slideshow": {
     "slide_type": "fragment"
    }
   },
   "outputs": [
    {
     "name": "stdout",
     "output_type": "stream",
     "text": [
      "['Manolo', 'Pepe', 'Luis']\n",
      "(31, 34, 34)\n"
     ]
    }
   ],
   "source": [
    "# unzip \n",
    "nombres = ['Manolo','Pepe','Luis']\n",
    "edades = [31,34,34]\n",
    "jugadores = zip(nombres,edades)\n",
    "#print(list(jugadores))   # TODO\n",
    "#desempaquetar la lista key, value\n",
    "ns, es = zip(*jugadores)\n",
    "print(list(ns))\n",
    "#devuelve una tupla no una lista\n",
    "print(es)"
   ]
  },
  {
   "cell_type": "code",
   "execution_count": 93,
   "metadata": {
    "slideshow": {
     "slide_type": "fragment"
    }
   },
   "outputs": [
    {
     "name": "stdout",
     "output_type": "stream",
     "text": [
      "[('Manolo', 31, 23), ('Pepe', 34, 34), ('Luis', 34, 45)]\n",
      "[]\n"
     ]
    }
   ],
   "source": [
    "nombres = ['Manolo','Pepe','Luis']\n",
    "edades = [31,34,34]\n",
    "dd = [23,34,45]\n",
    "jugadores_z = zip(nombres,edades, dd)\n",
    "print(list(jugadores_z))\n",
    "\n",
    "jugadores_u = zip(*jugadores_z)\n",
    "print(list(jugadores_uz))\n",
    "\n",
    "#Si n no es positivo, se crea un range vacío.\n",
    "#list(range(-2))\n",
    "#[]"
   ]
  },
  {
   "cell_type": "markdown",
   "metadata": {
    "slideshow": {
     "slide_type": "slide"
    }
   },
   "source": [
    "# Ejercicios\n",
    "\n",
    "- Resolver errores\n",
    "- Crear funcionalidad\n",
    "- NO Comentar resultados en el foro"
   ]
  },
  {
   "cell_type": "markdown",
   "metadata": {
    "slideshow": {
     "slide_type": "subslide"
    }
   },
   "source": [
    "## Identificar y resolver errores"
   ]
  },
  {
   "cell_type": "code",
   "execution_count": 32,
   "metadata": {
    "slideshow": {
     "slide_type": "fragment"
    }
   },
   "outputs": [
    {
     "name": "stdout",
     "output_type": "stream",
     "text": [
      "0\n"
     ]
    }
   ],
   "source": [
    "variable1 = 0\n",
    "print(variable1)"
   ]
  },
  {
   "cell_type": "code",
   "execution_count": 37,
   "metadata": {
    "slideshow": {
     "slide_type": "fragment"
    }
   },
   "outputs": [
    {
     "name": "stdout",
     "output_type": "stream",
     "text": [
      "Mis números son:  5 y 10\n"
     ]
    }
   ],
   "source": [
    "var_a = 5\n",
    "var_b = 10\n",
    "print(f\"Mis números son:  {var_a} y {var_b}\")"
   ]
  },
  {
   "cell_type": "code",
   "execution_count": 39,
   "metadata": {
    "slideshow": {
     "slide_type": "fragment"
    }
   },
   "outputs": [
    {
     "name": "stdout",
     "output_type": "stream",
     "text": [
      "6\n",
      "7\n",
      "8\n",
      "9\n"
     ]
    }
   ],
   "source": [
    "threshold = 5\n",
    "values = list(range(10))\n",
    "for v in values:\n",
    "    if v > threshold: print(v)"
   ]
  },
  {
   "cell_type": "code",
   "execution_count": 42,
   "metadata": {
    "slideshow": {
     "slide_type": "fragment"
    }
   },
   "outputs": [
    {
     "name": "stdout",
     "output_type": "stream",
     "text": [
      "0\n",
      "1\n",
      "2\n",
      "3\n",
      "4\n"
     ]
    }
   ],
   "source": [
    "for i in range(5):\n",
    "    print(i)"
   ]
  },
  {
   "cell_type": "code",
   "execution_count": 44,
   "metadata": {
    "slideshow": {
     "slide_type": "fragment"
    }
   },
   "outputs": [
    {
     "name": "stdout",
     "output_type": "stream",
     "text": [
      "0\n",
      "1\n",
      "2\n",
      "3\n",
      "4\n",
      "5\n",
      "6\n",
      "7\n",
      "8\n",
      "9\n"
     ]
    }
   ],
   "source": [
    "counter = 0\n",
    "while counter < 10:\n",
    "    print(counter)\n",
    "    counter += 1"
   ]
  },
  {
   "cell_type": "code",
   "execution_count": 47,
   "metadata": {
    "slideshow": {
     "slide_type": "fragment"
    }
   },
   "outputs": [
    {
     "name": "stdout",
     "output_type": "stream",
     "text": [
      "(345123, 876587, 'Yes')\n"
     ]
    }
   ],
   "source": [
    "tuple1 = (345123,876587,'Yes')\n",
    "print(tuple1)\n",
    "#Las tuplas son inmutables\n",
    "#tuple1[0] = 1"
   ]
  },
  {
   "cell_type": "code",
   "execution_count": 52,
   "metadata": {
    "slideshow": {
     "slide_type": "fragment"
    }
   },
   "outputs": [
    {
     "data": {
      "text/plain": [
       "0"
      ]
     },
     "execution_count": 52,
     "metadata": {},
     "output_type": "execute_result"
    }
   ],
   "source": [
    "tuple = (1,2,3)\n",
    "tuple.index(1)"
   ]
  },
  {
   "cell_type": "code",
   "execution_count": 58,
   "metadata": {
    "slideshow": {
     "slide_type": "fragment"
    }
   },
   "outputs": [
    {
     "name": "stdout",
     "output_type": "stream",
     "text": [
      "['Barcelona', 'Valencia', 'Madrid', 'Zaragoza', 'Sevilla']\n"
     ]
    }
   ],
   "source": [
    "cities = ['Barcelona','Valencia','Madrid','Zaragoza']\n",
    "cities.append('Sevilla')\n",
    "print(cities)"
   ]
  },
  {
   "cell_type": "code",
   "execution_count": 60,
   "metadata": {
    "slideshow": {
     "slide_type": "fragment"
    }
   },
   "outputs": [
    {
     "name": "stdout",
     "output_type": "stream",
     "text": [
      "['Barcelona', 'Valencia', 'Madrid']\n"
     ]
    }
   ],
   "source": [
    "cities = ['Barcelona','Valencia','Madrid','Zaragoza']\n",
    "# mostrar las tres primeras ciudades\n",
    "print(cities[:3])"
   ]
  },
  {
   "cell_type": "code",
   "execution_count": 61,
   "metadata": {
    "slideshow": {
     "slide_type": "fragment"
    }
   },
   "outputs": [
    {
     "name": "stdout",
     "output_type": "stream",
     "text": [
      "-10\n",
      "-9\n",
      "-8\n",
      "-7\n",
      "-6\n",
      "-5\n",
      "-4\n",
      "-3\n",
      "-2\n",
      "-1\n",
      "0\n",
      "1\n",
      "2\n",
      "3\n",
      "4\n"
     ]
    }
   ],
   "source": [
    "for i,v in enumerate(range(-10,5)):\n",
    "    print(v)"
   ]
  },
  {
   "cell_type": "code",
   "execution_count": 66,
   "metadata": {
    "slideshow": {
     "slide_type": "fragment"
    }
   },
   "outputs": [
    {
     "name": "stdout",
     "output_type": "stream",
     "text": [
      "('Manolo', 31)\n"
     ]
    }
   ],
   "source": [
    "nombres = ['Manolo','Pepe','Luis']\n",
    "edades = [31,34,34]\n",
    "jugadores = zip(nombres,edades)\n",
    "print(list(jugadores)[0])"
   ]
  },
  {
   "cell_type": "markdown",
   "metadata": {
    "slideshow": {
     "slide_type": "subslide"
    }
   },
   "source": [
    "## Crear funcionalidad"
   ]
  },
  {
   "cell_type": "code",
   "execution_count": 72,
   "metadata": {
    "slideshow": {
     "slide_type": "fragment"
    }
   },
   "outputs": [
    {
     "name": "stdout",
     "output_type": "stream",
     "text": [
      "['l', 'a', 'd', 'e', 'c', 'i', 'm', 'a', '$', '*']\n",
      "Key: 0  value: l\n",
      "Key: 1  value: a\n",
      "Key: 2  value: d\n",
      "Key: 3  value: e\n",
      "Key: 4  value: c\n",
      "Key: 5  value: i\n",
      "Key: 6  value: m\n",
      "Key: 7  value: a\n",
      "Key: 8  value: $\n",
      "Key: 9  value: *\n"
     ]
    }
   ],
   "source": [
    "# Crear una lista de 10 elementos (tipo string), iterar sobre ellos\n",
    "# en cada iteración, imprimir el índice del elemento y el elemento en sí\n",
    "\n",
    "lista = list('ladecima$*');\n",
    "print(lista)\n",
    "#para obtener los indexes de una lista, ocupar el método lista\n",
    "for k,v in enumerate(lista):\n",
    " print(\"Key: \" + str(k),\" value: \" + v)"
   ]
  },
  {
   "cell_type": "code",
   "execution_count": 97,
   "metadata": {
    "slideshow": {
     "slide_type": "fragment"
    }
   },
   "outputs": [
    {
     "name": "stdout",
     "output_type": "stream",
     "text": [
      "[1, 2, 3, 4, 5, 6, 7, 8, 9, 10, 11, 12, 13, 14, 15, 16, 17, 18, 19, 20, 21, 22, 23, 24, 25, 26, 27, 28, 29, 30, 31, 32, 33, 34, 35, 36, 37, 38, 39, 40, 41, 42, 43, 44, 45, 46, 47, 48, 49, 50, 51, 52, 53, 54, 55, 56, 57, 58, 59, 60, 61, 62, 63, 64, 65, 66, 67, 68, 69, 70, 71, 72, 73, 74, 75, 76, 77, 78, 79, 80, 81, 82, 83, 84, 85, 86, 87, 88, 89, 90, 91, 92, 93, 94, 95, 96, 97, 98, 99]\n"
     ]
    }
   ],
   "source": [
    "# Imprimir todos los números naturales (enteros positivos) menores de 100\n",
    "#el último número no se incluye\n",
    "print(list(range(1,100,1)))"
   ]
  },
  {
   "cell_type": "code",
   "execution_count": 96,
   "metadata": {
    "slideshow": {
     "slide_type": "fragment"
    }
   },
   "outputs": [
    {
     "name": "stdout",
     "output_type": "stream",
     "text": [
      "[1, 2, 'Fizz', 4, 'Buzz', 'Fizz', 7, 8, 'Fizz', 'Buzz', 11, 'Fizz', 13, 14, 'FizzBuzz', 16, 17, 'Fizz', 19, 'Buzz', 'Fizz', 22, 23, 'Fizz', 'Buzz', 26, 'Fizz', 28, 29, 'FizzBuzz', 31, 32, 'Fizz', 34, 'Buzz', 'Fizz', 37, 38, 'Fizz', 'Buzz', 41, 'Fizz', 43, 44, 'FizzBuzz', 46, 47, 'Fizz', 49, 'Buzz', 'Fizz', 52, 53, 'Fizz', 'Buzz', 56, 'Fizz', 58, 59, 'FizzBuzz', 61, 62, 'Fizz', 64, 'Buzz', 'Fizz', 67, 68, 'Fizz', 'Buzz', 71, 'Fizz', 73, 74, 'FizzBuzz', 76, 77, 'Fizz', 79, 'Buzz', 'Fizz', 82, 83, 'Fizz', 'Buzz', 86, 'Fizz', 88, 89, 'FizzBuzz', 91, 92, 'Fizz', 94, 'Buzz', 'Fizz', 97, 98, 'Fizz']\n"
     ]
    }
   ],
   "source": [
    "# imprimir todos los numeros naturales (enteros positivos) menores de 100\n",
    "# sustituyendo el numero por Fizz cuando el numero sea multiplo de 3, por Buzz cuando sea multiplo de 5\n",
    "# y por FizzBuzz cuando sea multiplo de 3 y 5 a la vez\n",
    "fizz = 'Fizz'\n",
    "buzz = 'Buzz'\n",
    "naturales = list(range(1,100,1))\n",
    "#naturales[1]='Fizz'\n",
    "for k,v in enumerate(naturales):\n",
    "    if(v%3==0 and v%5==0):\n",
    "        naturales[k]=fizz+buzz\n",
    "    elif (v%3==0):     \n",
    "        naturales[k]=fizz\n",
    "    elif (v%5==0):     \n",
    "        naturales[k]=buzz\n",
    "\n",
    "print(naturales)\n"
   ]
  },
  {
   "cell_type": "code",
   "execution_count": 93,
   "metadata": {
    "slideshow": {
     "slide_type": "fragment"
    }
   },
   "outputs": [
    {
     "name": "stdout",
     "output_type": "stream",
     "text": [
      "Huevos\n",
      "Fruta\n",
      "Leche\n",
      "Carne\n",
      "Pera\n",
      "Manzana\n",
      "Naranja\n"
     ]
    }
   ],
   "source": [
    "# de una lista de strings, imprimir todos los elementos con más de 3 carácteres\n",
    "# pista: se puede usar la función len() con strings\n",
    "palabras = ['Huevos', 'Fruta', 'Pan', 'Leche', 'Carne', 'Pera', 'Manzana', 'Naranja']\n",
    "\n",
    "#for p in palabras:\n",
    "    #if(len(p)>3):\n",
    "        #print(p)\n",
    "\n",
    "\n",
    "values=[print(p) for p in palabras if len(p)>3]"
   ]
  },
  {
   "cell_type": "code",
   "execution_count": 86,
   "metadata": {
    "slideshow": {
     "slide_type": "fragment"
    }
   },
   "outputs": [
    {
     "name": "stdout",
     "output_type": "stream",
     "text": [
      "(1, 2, 3, 4)\n",
      "('banana', 'pear', 'sweet potato', 'melon')\n"
     ]
    }
   ],
   "source": [
    "# Separa la siguiente lista de tuples en dos, de forma que todos los números estén en una y las string en otra\n",
    "data = [(1,'banana'),(2,'pear'),(3,'sweet potato'),(4,'melon')]\n",
    "keys,values = zip(*data)\n",
    "print(keys)\n",
    "print(values)"
   ]
  },
  {
   "cell_type": "code",
   "execution_count": 101,
   "metadata": {
    "slideshow": {
     "slide_type": "fragment"
    }
   },
   "outputs": [
    {
     "data": {
      "text/plain": [
       "[(0, 10),\n",
       " (1, 9),\n",
       " (2, 8),\n",
       " (3, 7),\n",
       " (4, 6),\n",
       " (5, 5),\n",
       " (6, 4),\n",
       " (7, 3),\n",
       " (8, 2),\n",
       " (9, 1),\n",
       " (10, 0)]"
      ]
     },
     "execution_count": 101,
     "metadata": {},
     "output_type": "execute_result"
    }
   ],
   "source": [
    "# Crear una lista con pares de valores de forma que n es el maximo de numeros\n",
    "# el primer par tiene que ser [0, n] ... hasta [n, 0]\n",
    "\n",
    "n = 10\n",
    "lista1=list(range(0,n+1,1))\n",
    "lista2=list(range(n,-1,-1))\n",
    "\n",
    "list(zip(lista1,lista2))\n",
    "\n"
   ]
  },
  {
   "cell_type": "code",
   "execution_count": null,
   "metadata": {},
   "outputs": [],
   "source": []
  }
 ],
 "metadata": {
  "celltoolbar": "Slideshow",
  "kernelspec": {
   "display_name": "Python 3 (ipykernel)",
   "language": "python",
   "name": "python3"
  },
  "language_info": {
   "codemirror_mode": {
    "name": "ipython",
    "version": 3
   },
   "file_extension": ".py",
   "mimetype": "text/x-python",
   "name": "python",
   "nbconvert_exporter": "python",
   "pygments_lexer": "ipython3",
   "version": "3.9.13"
  }
 },
 "nbformat": 4,
 "nbformat_minor": 4
}
