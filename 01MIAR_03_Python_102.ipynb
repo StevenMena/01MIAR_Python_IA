{
 "cells": [
  {
   "cell_type": "markdown",
   "metadata": {
    "slideshow": {
     "slide_type": "slide"
    }
   },
   "source": [
    "<img src=\"img/viu_logo.png\" width=\"200\">\n",
    "\n",
    " \n",
    "\n",
    "![logo](img/python_logo.png)\n",
    "\n",
    "*Ivan Fuertes*"
   ]
  },
  {
   "cell_type": "markdown",
   "metadata": {
    "slideshow": {
     "slide_type": "slide"
    }
   },
   "source": [
    "# En la clase anterior...\n",
    "- Sintaxis básica de Python\n",
    "- Loops\n",
    "- Condicionales\n",
    "- Colecciones (tuplas, listas y secuencias)"
   ]
  },
  {
   "cell_type": "markdown",
   "metadata": {
    "slideshow": {
     "slide_type": "subslide"
    }
   },
   "source": [
    "# Sumario\n",
    "- Colecciones: diccionarios y sets\n",
    "- Funciones\n",
    "- Escribir y leer archivos"
   ]
  },
  {
   "cell_type": "markdown",
   "metadata": {
    "slideshow": {
     "slide_type": "slide"
    }
   },
   "source": [
    "## Diccionarios\n",
    "- Son mutables\n",
    "- Colección de parejas clave : valor. [JSON specification](https://www.json.org/)\n",
    " - claves --> cualquier objeto inmutable \n",
    " - La clave no pueden cambiar en el tiempo, Tipos inmutables - int, float, decimal, bool, string, tuple y range\n",
    "- Desde la versión 3.6 están ordenados.\n",
    " - https://mail.python.org/pipermail/python-dev/2017-December/151283.html\n",
    " - https://pymotw.com/2/collections/ordereddict.html\n",
    "- Libreria Json. https://docs.python.org/3/library/json.html"
   ]
  },
  {
   "cell_type": "code",
   "execution_count": null,
   "metadata": {
    "slideshow": {
     "slide_type": "fragment"
    }
   },
   "outputs": [],
   "source": [
    "# crear un diccionario\n",
    "dict_simple = {'ID' : 'XCSDe1194', 'Nombre' : 'Carlos', 'Edad' : 34}\n",
    "print(dict_simple)\n",
    "\n",
    "# los valores pueden ser una lista. Pensar en excel o csv\n",
    "dict_columnas = {'ID' : ['XCSDe1194','GTIM11'], 'Nombre' : ['Carlos','Mark'], 'Edad' : [34,21]}\n",
    "print(dict_columnas)"
   ]
  },
  {
   "cell_type": "code",
   "execution_count": 4,
   "metadata": {
    "slideshow": {
     "slide_type": "fragment"
    }
   },
   "outputs": [
    {
     "name": "stdout",
     "output_type": "stream",
     "text": [
      "{(1, 2): 'carlos'}\n"
     ]
    }
   ],
   "source": [
    "# y una lista?\n",
    "# dict1 = { [1,2] : 'dato'}\n",
    "dict_simple = {(1,2) : 'carlos'} # una tupla puede utilizarse como clave porque es inmutable\n",
    "print(dict_simple)"
   ]
  },
  {
   "cell_type": "code",
   "execution_count": 5,
   "metadata": {
    "slideshow": {
     "slide_type": "fragment"
    }
   },
   "outputs": [
    {
     "name": "stdout",
     "output_type": "stream",
     "text": [
      "{'Marie': 98, 'Augusto': 76, 'Domingo': 65}\n"
     ]
    }
   ],
   "source": [
    "# Crear diccionarios uniendo dos colecciones\n",
    "nombres = ['Marie','Augusto','Domingo']\n",
    "edades = [98,76,65]\n",
    "\n",
    "datos = dict(zip(nombres,edades))\n",
    "print(datos)"
   ]
  },
  {
   "cell_type": "code",
   "execution_count": 7,
   "metadata": {
    "slideshow": {
     "slide_type": "fragment"
    }
   },
   "outputs": [
    {
     "name": "stdout",
     "output_type": "stream",
     "text": [
      "{'Marie': 98, 'Augusto': 76, 'Domingo': 65}\n"
     ]
    }
   ],
   "source": [
    "# Crear diccionarios uniendo dos colecciones (comprehension list)\n",
    "nombres = ['Marie','Augusto','Domingo']\n",
    "edades = [98,76,65]\n",
    "\n",
    "datos = {k:v for k,v in zip(nombres,edades)}\n",
    "print(datos)"
   ]
  },
  {
   "cell_type": "code",
   "execution_count": 15,
   "metadata": {
    "slideshow": {
     "slide_type": "subslide"
    }
   },
   "outputs": [
    {
     "name": "stdout",
     "output_type": "stream",
     "text": [
      "Carlos\n",
      "{'ID': 'XCSDe1194', 'Nombre': 'Carlos', 'Edad': 34, 'Usuario': 'bundenth'}\n",
      "{'ID': 'XCSDe1194', 'Nombre': 'Manolo', 'Edad': 34, 'Usuario': 'bundenth'}\n",
      "{'ID': 'XCSDe1194', 'Edad': 34, 'Usuario': 'bundenth'}\n",
      "Manolo\n"
     ]
    }
   ],
   "source": [
    "dict_simple = {'ID' : 'XCSDe1194', 'Nombre' : 'Carlos', 'Edad' : 34}\n",
    "# acceso a un valor a traves de la clave\n",
    "#nombre = dict_simple['Nombre']\n",
    "#nombre = dict_simple.get('Nombre')\n",
    "nombre = dict_simple['Nombre']\n",
    "print(nombre)\n",
    "\n",
    "# añadir un valor a traves de la clave, asignacion valor\n",
    "dict_simple['Usuario'] = 'bundenth'\n",
    "print(dict_simple)\n",
    "\n",
    "#Modificar un valor por medio de la clave\n",
    "dict_simple['Nombre'] = 'Manolo'\n",
    "print(dict_simple)\n",
    "\n",
    "# eliminar un valor a traves de la clave\n",
    "# usando del se elimina el valor\n",
    "#del dict_simple['Usuario']\n",
    "#usando pop podemos obtener el valo a eliminar y se elimina a su vez\n",
    "value = dict_simple.pop('Nombre')\n",
    "print(dict_simple)\n",
    "print(value)"
   ]
  },
  {
   "cell_type": "code",
   "execution_count": 12,
   "metadata": {
    "slideshow": {
     "slide_type": "subslide"
    },
    "tags": []
   },
   "outputs": [
    {
     "data": {
      "text/plain": [
       "\u001b[1;31mInit signature:\u001b[0m \u001b[0mdict\u001b[0m\u001b[1;33m(\u001b[0m\u001b[0mself\u001b[0m\u001b[1;33m,\u001b[0m \u001b[1;33m/\u001b[0m\u001b[1;33m,\u001b[0m \u001b[1;33m*\u001b[0m\u001b[0margs\u001b[0m\u001b[1;33m,\u001b[0m \u001b[1;33m**\u001b[0m\u001b[0mkwargs\u001b[0m\u001b[1;33m)\u001b[0m\u001b[1;33m\u001b[0m\u001b[1;33m\u001b[0m\u001b[0m\n",
       "\u001b[1;31mDocstring:\u001b[0m     \n",
       "dict() -> new empty dictionary\n",
       "dict(mapping) -> new dictionary initialized from a mapping object's\n",
       "    (key, value) pairs\n",
       "dict(iterable) -> new dictionary initialized as if via:\n",
       "    d = {}\n",
       "    for k, v in iterable:\n",
       "        d[k] = v\n",
       "dict(**kwargs) -> new dictionary initialized with the name=value pairs\n",
       "    in the keyword argument list.  For example:  dict(one=1, two=2)\n",
       "\u001b[1;31mType:\u001b[0m           type\n",
       "\u001b[1;31mSubclasses:\u001b[0m     OrderedDict, defaultdict, Counter, _EnumDict, Bunch, Config, _DefaultOptionDict, ObjectDict, StgDict, TimeRE, ...\n"
      ]
     },
     "metadata": {},
     "output_type": "display_data"
    }
   ],
   "source": [
    "# Declarar una lista mediante dict, key, value\n",
    "dict?"
   ]
  },
  {
   "cell_type": "code",
   "execution_count": 17,
   "metadata": {
    "slideshow": {
     "slide_type": "subslide"
    }
   },
   "outputs": [
    {
     "name": "stdout",
     "output_type": "stream",
     "text": [
      "{'ciudad': 'Valencia', 'habitantes': 800000}\n",
      "{'ciudad': 'Valencia', 'habitantes': 800000}\n",
      "{'ciudad': 'Valencia', 'habitantes': 800000}\n"
     ]
    }
   ],
   "source": [
    "dict_simple = {'ciudad': 'Valencia', 'habitantes': 800000}\n",
    "print(dict_simple)\n",
    "\n",
    "# Pasando un iterador\n",
    "dict_simple = dict([['ciudad', 'Valencia'], ['habitantes', 800000]])\n",
    "print(dict_simple)\n",
    "\n",
    "# Pasando claves y valores\n",
    "dict_simple = dict(ciudad='Valencia', habitantes=800000)\n",
    "print(dict_simple)"
   ]
  },
  {
   "cell_type": "code",
   "execution_count": 18,
   "metadata": {
    "slideshow": {
     "slide_type": "fragment"
    }
   },
   "outputs": [
    {
     "name": "stdout",
     "output_type": "stream",
     "text": [
      "{0: 's', 1: 'a', 2: 'd', 3: 'b', 4: 'g'}\n"
     ]
    }
   ],
   "source": [
    "# a partir de una lista y un enumerate, comprehension\n",
    "dict_simple = {k:v for k, v in enumerate(list('sadbg'))}\n",
    "print(dict_simple)"
   ]
  },
  {
   "cell_type": "code",
   "execution_count": 19,
   "metadata": {},
   "outputs": [
    {
     "name": "stdout",
     "output_type": "stream",
     "text": [
      "{0: 'a', 1: 's', 2: 'd', 3: 'b', 4: 'g'}\n"
     ]
    }
   ],
   "source": [
    "dict_simple=dict(enumerate(list('asdbg')))\n",
    "print(dict_simple)"
   ]
  },
  {
   "cell_type": "code",
   "execution_count": 20,
   "metadata": {
    "slideshow": {
     "slide_type": "fragment"
    }
   },
   "outputs": [
    {
     "name": "stdout",
     "output_type": "stream",
     "text": [
      "{'a': 0, 's': 1, 'd': 2, 'b': 3, 'g': 4}\n"
     ]
    }
   ],
   "source": [
    "# mantiene el orden a partir de 3.6\n",
    "dict_simple = {value:index for index, value in enumerate(list('asdbg'))}\n",
    "print(dict_simple)\n",
    "# en 2.7 {'a': 0, 'b': 3, 'd': 2, 'g': 4, 's': 1}"
   ]
  },
  {
   "cell_type": "markdown",
   "metadata": {
    "slideshow": {
     "slide_type": "subslide"
    }
   },
   "source": [
    "### Iterar sobre un diccionario"
   ]
  },
  {
   "cell_type": "code",
   "execution_count": 21,
   "metadata": {
    "slideshow": {
     "slide_type": "fragment"
    }
   },
   "outputs": [
    {
     "name": "stdout",
     "output_type": "stream",
     "text": [
      "Claves\n",
      "\n",
      "ID\n",
      "Nombre\n",
      "Edad\n",
      "Valores\n",
      "\n",
      "XCSDe1194\n",
      "Carlos\n",
      "34\n"
     ]
    }
   ],
   "source": [
    "dict_simple = {'ID' : 'XCSDe1194', 'Nombre' : 'Carlos', 'Edad' : 34}\n",
    "\n",
    "# iterar sobre las claves\n",
    "print('Claves\\n')\n",
    "for key in dict_simple.keys(): # o dict_simple\n",
    "    print(key)\n",
    "    \n",
    "print('Valores\\n')\n",
    "# iterar sobre los valores\n",
    "for value in dict_simple.values():\n",
    "    print(value)"
   ]
  },
  {
   "cell_type": "code",
   "execution_count": 22,
   "metadata": {
    "slideshow": {
     "slide_type": "fragment"
    }
   },
   "outputs": [
    {
     "name": "stdout",
     "output_type": "stream",
     "text": [
      "Clave: ID, valor: XCSDe1194\n",
      "Clave: Nombre, valor: Carlos\n",
      "Clave: Edad, valor: 34\n",
      "Item: ('ID', 'XCSDe1194')\n",
      "Item: ('Nombre', 'Carlos')\n",
      "Item: ('Edad', 34)\n",
      "Clave: ID, valor: XCSDe1194\n",
      "Clave: Nombre, valor: Carlos\n",
      "Clave: Edad, valor: 34\n"
     ]
    }
   ],
   "source": [
    "dict_simple = {'ID' : 'XCSDe1194', 'Nombre' : 'Carlos', 'Edad' : 34}\n",
    "# iterar sobre ambos, directamente con items().\n",
    "for key, value in dict_simple.items():\n",
    "    print('Clave: ' + str(key) + ', valor: ' + str(value))\n",
    "    \n",
    "for item in dict_simple.items():  # devuelve tuplas\n",
    "    print('Item: ' + str(item))\n",
    "\n",
    "# usar zip para iterar sobre Clave-Valor\n",
    "for key, value in zip(dict_simple.keys(),dict_simple.values()):\n",
    "    print('Clave: ' + str(key) + ', valor: ' + str(value))"
   ]
  },
  {
   "cell_type": "markdown",
   "metadata": {
    "slideshow": {
     "slide_type": "subslide"
    }
   },
   "source": [
    "- Diccionarios se pueden utilizar como 'switch' en otros lenguajes\n",
    "- Ideal para escoger entre varias opciones"
   ]
  },
  {
   "cell_type": "code",
   "execution_count": 23,
   "metadata": {
    "slideshow": {
     "slide_type": "fragment"
    }
   },
   "outputs": [
    {
     "name": "stdout",
     "output_type": "stream",
     "text": [
      "4\n",
      "5.0\n",
      "None\n"
     ]
    }
   ],
   "source": [
    "def switch_dict(operator, x, y):\n",
    "    # crea un diccionario de opciones y selecciona 'operator'\n",
    "    #lambda es una pequeña función anónima\n",
    "    return {\n",
    "        'add': lambda: x + y,\n",
    "        'sub': lambda: x - y,\n",
    "        'mul': lambda: x * y,\n",
    "        'div': lambda: x / y,\n",
    "    }.get(operator, lambda: None)() # retorna None si no encuentra 'operator'\n",
    "\n",
    "print(switch_dict('add',2,2))\n",
    "print(switch_dict('div',10,2))\n",
    "print(switch_dict('mod',17,3))"
   ]
  },
  {
   "cell_type": "code",
   "execution_count": 28,
   "metadata": {},
   "outputs": [
    {
     "name": "stdout",
     "output_type": "stream",
     "text": [
      "XCSDe1194\n",
      "None\n"
     ]
    }
   ],
   "source": [
    "dict_simple = {'ID' : 'XCSDe1194', 'Nombre' : 'Carlos', 'Edad' : 34}\n",
    "print(dict_simple['ID'])\n",
    "#Si la clave no existe se crear con el valor que se establece, si no se establece valor, se le asigna None\n",
    "print(dict_simple.get('ID_s',34))"
   ]
  },
  {
   "cell_type": "markdown",
   "metadata": {
    "slideshow": {
     "slide_type": "subslide"
    }
   },
   "source": [
    "## Sets (conjuntos)\n",
    "\n",
    "- Son mutables\n",
    "- Colecciones de elementos únicos\n",
    "- Son diccionarios sin valores (solo claves)\n",
    " - Contiene objetos inmutables"
   ]
  },
  {
   "cell_type": "code",
   "execution_count": 29,
   "metadata": {
    "slideshow": {
     "slide_type": "fragment"
    }
   },
   "outputs": [
    {
     "name": "stdout",
     "output_type": "stream",
     "text": [
      "{0, 1, 2, 3, 4, 5, 8, 13, 21}\n",
      "{'user1', 2, (1, 2), 12}\n",
      "{0, 1, 2, 3, 4, 5, 6, 7, 8, 9}\n",
      "{0, 1, 2, 3, 4}\n"
     ]
    }
   ],
   "source": [
    "# Crear un set\n",
    "set1 = {0,1,1,1,1,1,2,3,4,5,8,13,21}\n",
    "print(set1)\n",
    "\n",
    "set2 = {'user1',12, 2, (1,2),'user1'}\n",
    "print(set2)\n",
    "\n",
    "set3 = set(range(10))\n",
    "print(set3)\n",
    "\n",
    "set4 = set([0,1,2,3,4,0])\n",
    "print(set4)"
   ]
  },
  {
   "cell_type": "markdown",
   "metadata": {
    "slideshow": {
     "slide_type": "subslide"
    }
   },
   "source": [
    "- Basados en sets matemáticos\n",
    "- Operaciones con sets"
   ]
  },
  {
   "cell_type": "code",
   "execution_count": 30,
   "metadata": {
    "slideshow": {
     "slide_type": "fragment"
    }
   },
   "outputs": [
    {
     "name": "stdout",
     "output_type": "stream",
     "text": [
      "{0, 1, 2, 3, 4, 5, 8, 42, 13, 21}\n",
      "{0, 1, 2, 3, 4}\n",
      "{42}\n",
      "{8, 13, 21, 5}\n"
     ]
    }
   ],
   "source": [
    "set1 = {0,1,1,2,3,4,5,8,13,21}\n",
    "set2 = set([0,1,2,3,4,42])\n",
    "\n",
    "# union\n",
    "print(set1 | set2)\n",
    "\n",
    "# intersección\n",
    "print(set1 & set2)\n",
    "\n",
    "# diferencia\n",
    "#Que elementos del set2 no tiene el set1\n",
    "print(set2 - set1)\n",
    "##Que elemento/s del set1 no tiene el set2\n",
    "print(set1 - set2)"
   ]
  },
  {
   "cell_type": "code",
   "execution_count": null,
   "metadata": {
    "slideshow": {
     "slide_type": "fragment"
    }
   },
   "outputs": [],
   "source": [
    "set1 = {0,1,1,2,3,4,5,8,13,21}\n",
    "set2 = set([0,1,2,3,4])\n",
    "\n",
    "# funciones para la comparación de sets\n",
    "#Return True if all items in set1  are present in set2:\n",
    "print(set2.issubset(set1)) # True\n",
    "#Return True if all items set2 are present in set1:\n",
    "print(set1.issuperset(set2)) # True\n",
    "\n",
    "# Nada comun entre conjuntos\n",
    "print(set1.isdisjoint(set2)) # False"
   ]
  },
  {
   "cell_type": "code",
   "execution_count": 31,
   "metadata": {
    "slideshow": {
     "slide_type": "fragment"
    }
   },
   "outputs": [
    {
     "name": "stdout",
     "output_type": "stream",
     "text": [
      "True\n"
     ]
    }
   ],
   "source": [
    "# para comprobar si una clave está presente en un set (o elemento en set)\n",
    "words = {'calm', 'balm'}\n",
    "print('calm' in words)"
   ]
  },
  {
   "cell_type": "markdown",
   "metadata": {
    "slideshow": {
     "slide_type": "slide"
    }
   },
   "source": [
    "# Funciones\n",
    "- Fragmentos de código\n",
    "- Reutilizable "
   ]
  },
  {
   "cell_type": "code",
   "execution_count": null,
   "metadata": {
    "slideshow": {
     "slide_type": "fragment"
    }
   },
   "outputs": [],
   "source": [
    "def add(x,y):\n",
    "    return x + y\n",
    "\n",
    "print(add(4,5))"
   ]
  },
  {
   "cell_type": "code",
   "execution_count": 32,
   "metadata": {
    "slideshow": {
     "slide_type": "fragment"
    }
   },
   "outputs": [
    {
     "name": "stdout",
     "output_type": "stream",
     "text": [
      "{'Alfred': 87, 'James': 43, 'Peter': 19, 'Harvey': 16}\n"
     ]
    }
   ],
   "source": [
    "# definir la función primero\n",
    "def create_dict(keys,values): # argumentos (opcional)\n",
    "    return dict(zip(keys,values)) # valor de retorno (opcional)\n",
    "\n",
    "#utilizar la función después\n",
    "names = ['Alfred','James','Peter','Harvey']\n",
    "ages = [87,43,19,16]\n",
    "users = create_dict(names, ages)\n",
    "print(users)"
   ]
  },
  {
   "cell_type": "markdown",
   "metadata": {
    "slideshow": {
     "slide_type": "subslide"
    }
   },
   "source": [
    "Las funciones pueden tener argumentos (0 o más) y retornar valores (0 o más)"
   ]
  },
  {
   "cell_type": "code",
   "execution_count": 33,
   "metadata": {
    "slideshow": {
     "slide_type": "fragment"
    }
   },
   "outputs": [
    {
     "name": "stdout",
     "output_type": "stream",
     "text": [
      "Program version 0.78a\n"
     ]
    }
   ],
   "source": [
    "# función sin valor de retorno ni argumentos\n",
    "def print_version():\n",
    "    print('Program version 0.78a')\n",
    "    return # es opcional pero mejora la legibilidad\n",
    "\n",
    "print_version()"
   ]
  },
  {
   "cell_type": "code",
   "execution_count": 34,
   "metadata": {},
   "outputs": [
    {
     "name": "stdout",
     "output_type": "stream",
     "text": [
      "3.0\n",
      "0\n"
     ]
    }
   ],
   "source": [
    "# varios returns\n",
    "def div_safe(x,y):\n",
    "    if y == 0:\n",
    "        return 0\n",
    "    return x / y\n",
    "\n",
    "print(div_safe(6,2))\n",
    "print(div_safe(6,0))"
   ]
  },
  {
   "cell_type": "code",
   "execution_count": 35,
   "metadata": {
    "slideshow": {
     "slide_type": "fragment"
    }
   },
   "outputs": [
    {
     "name": "stdout",
     "output_type": "stream",
     "text": [
      "Alfred\n",
      "James\n",
      "('Alfred', 'James')\n"
     ]
    }
   ],
   "source": [
    "# función con varios valores de retorno\n",
    "def get_first_second(collection):\n",
    "    return collection[0], collection[1] # devuelve tupla\n",
    "\n",
    "names = ['Alfred','James','Peter','Harvey']\n",
    "first, second = get_first_second(names)\n",
    "print(first)\n",
    "print(second)\n",
    "\n",
    "tupla = get_first_second(names)\n",
    "print(tupla)"
   ]
  },
  {
   "cell_type": "code",
   "execution_count": 36,
   "metadata": {},
   "outputs": [
    {
     "name": "stdout",
     "output_type": "stream",
     "text": [
      "3\n",
      "aaee\n"
     ]
    }
   ],
   "source": [
    "# annotations, se especifica el tipo de dato que se reciben como paramentros\n",
    "# y el tipo de dato que devuelve la función\n",
    "#sirve para la documentacion o como guía para los otros usuarios\n",
    "#pero actua como js que se le asigna un tipo pero puede almacenar cualquier tipo la variable\n",
    "def add2(x:int, y:int) -> int:\n",
    "    return x + y\n",
    "\n",
    "print(add2(1,2))\n",
    "print(add2(\"aa\",\"ee\"))"
   ]
  },
  {
   "cell_type": "markdown",
   "metadata": {
    "slideshow": {
     "slide_type": "subslide"
    }
   },
   "source": [
    "Los argumentos pueden tener valores por defecto (siempre al final)"
   ]
  },
  {
   "cell_type": "code",
   "execution_count": 37,
   "metadata": {
    "slideshow": {
     "slide_type": "fragment"
    }
   },
   "outputs": [
    {
     "name": "stdout",
     "output_type": "stream",
     "text": [
      "Se ha proporcionado a\n",
      "Se ha proporcionado b\n"
     ]
    }
   ],
   "source": [
    "# Cuidado con el orden de los valores por defecto\n",
    "def f(a, b=None, c=None):\n",
    "    if a is not None:\n",
    "        print('Se ha proporcionado a')\n",
    "    if b is not None:\n",
    "        print('Se ha proporcionado b')\n",
    "    if c is not None:\n",
    "        print('Se ha proporcionado c')\n",
    "    return\n",
    "        \n",
    "f(1, 'hola')"
   ]
  },
  {
   "cell_type": "markdown",
   "metadata": {
    "slideshow": {
     "slide_type": "subslide"
    }
   },
   "source": [
    "Named values, si al llamar se especifica el nombre de los argumentos se puede alterar el orden"
   ]
  },
  {
   "cell_type": "code",
   "execution_count": 38,
   "metadata": {
    "slideshow": {
     "slide_type": "fragment"
    }
   },
   "outputs": [
    {
     "name": "stdout",
     "output_type": "stream",
     "text": [
      "-1\n",
      "1\n",
      "-1\n"
     ]
    }
   ],
   "source": [
    "def minus(minuendo, sustraendo):\n",
    "    return minuendo - sustraendo\n",
    "\n",
    "print(minus(3,4))\n",
    "print(minus(4,3))\n",
    "\n",
    "#Si se define así los parametros se le añade legibilidad al código\n",
    "print(minus(sustraendo = 4, minuendo = 3))"
   ]
  },
  {
   "cell_type": "markdown",
   "metadata": {
    "slideshow": {
     "slide_type": "subslide"
    }
   },
   "source": [
    "- En python las funciones son first class citizens\n",
    "- Como cualquier otro objeto en Python, se puede guardar una función (o referencia) en una variable"
   ]
  },
  {
   "cell_type": "code",
   "execution_count": 1,
   "metadata": {
    "slideshow": {
     "slide_type": "fragment"
    }
   },
   "outputs": [
    {
     "name": "stdout",
     "output_type": "stream",
     "text": [
      "['Valencia', 'Barcelona', 'Bilbao']\n"
     ]
    }
   ],
   "source": [
    "#Resumiendo lo de arriba una función es un objeto de python\n",
    "# procesar strings aplicando funciones en 'ops'\n",
    "def clean_strings(strings, ops):\n",
    "    result = []\n",
    "    for value in strings:\n",
    "        for function in ops:\n",
    "            value = function(value)\n",
    "        result.append(value)\n",
    "    return result\n",
    "\n",
    "strings = ['  valencia   ', '   barcelona', ' bilbao ']\n",
    "operations = [str.strip, str.title]\n",
    "print(clean_strings(strings,operations))"
   ]
  },
  {
   "cell_type": "markdown",
   "metadata": {
    "slideshow": {
     "slide_type": "subslide"
    }
   },
   "source": [
    "### Paso de Parámetros\n",
    "- Tipos simples por valor, int, float, string\n",
    "  - Se crea una copia dentro de la función\n",
    "- Tipos complejos por referencia, list, set, dictionary\n",
    "  - Se maneja directamente la variable externa, los cambios le afectan"
   ]
  },
  {
   "cell_type": "code",
   "execution_count": 46,
   "metadata": {
    "slideshow": {
     "slide_type": "fragment"
    }
   },
   "outputs": [
    {
     "name": "stdout",
     "output_type": "stream",
     "text": [
      "4\n",
      "2\n"
     ]
    }
   ],
   "source": [
    "# paso por valor\n",
    "def pow2(x):    \n",
    "    x *= x\n",
    "    print(x)\n",
    "    return\n",
    "\n",
    "a = 2\n",
    "pow2(a)\n",
    "print(a)"
   ]
  },
  {
   "cell_type": "code",
   "execution_count": 47,
   "metadata": {
    "slideshow": {
     "slide_type": "fragment"
    }
   },
   "outputs": [
    {
     "name": "stdout",
     "output_type": "stream",
     "text": [
      "[0, 1, 2]\n",
      "[0, 1, 2]\n"
     ]
    }
   ],
   "source": [
    "# paso por referencia\n",
    "def add2(x):\n",
    "    x.append(2)\n",
    "    print(lista)\n",
    "    return\n",
    "    \n",
    "lista = [0, 1]\n",
    "add2(lista)\n",
    "print(lista)"
   ]
  },
  {
   "cell_type": "code",
   "execution_count": 48,
   "metadata": {
    "scrolled": true,
    "slideshow": {
     "slide_type": "fragment"
    }
   },
   "outputs": [
    {
     "name": "stdout",
     "output_type": "stream",
     "text": [
      "Dentro de pow2 4\n",
      "4\n"
     ]
    }
   ],
   "source": [
    "# paso por valor modificando, devolver el valor\n",
    "def pow2(x):\n",
    "    x *= x\n",
    "    print('Dentro de pow2 ' + str(x));\n",
    "    return x\n",
    "\n",
    "a = 2\n",
    "a = pow2(a)\n",
    "print(a)"
   ]
  },
  {
   "cell_type": "code",
   "execution_count": 50,
   "metadata": {},
   "outputs": [
    {
     "name": "stdout",
     "output_type": "stream",
     "text": [
      "[0, 1, 2]\n"
     ]
    }
   ],
   "source": [
    "#Sin pasar parametro\n",
    "#pero haciendo referencia a la misma lista\n",
    "lista = [0,1]\n",
    "\n",
    "def add2():\n",
    "    lista.append(2)\n",
    "    \n",
    "add2()\n",
    "print(lista)"
   ]
  },
  {
   "cell_type": "code",
   "execution_count": 54,
   "metadata": {
    "slideshow": {
     "slide_type": "fragment"
    }
   },
   "outputs": [
    {
     "name": "stdout",
     "output_type": "stream",
     "text": [
      "[0, 1, [30, 4], 2]\n",
      "[0, 1, [3, 4]]\n"
     ]
    }
   ],
   "source": [
    "# paso por referencia sin modificar, enviando copia\n",
    "import copy\n",
    "def add2(x):\n",
    "    x.append(2)\n",
    "    x[2][0] = 30\n",
    "    print(x)\n",
    "    return\n",
    "    \n",
    "lista = [0, 1, [3,4]]\n",
    "#si utilizamos copy ojo que si hay elementos de typo lista debemos hacer un deepcopy\n",
    "add2(copy.deepcopy(lista))\n",
    "#add2(list.copy(lista)) #Cuando se ocupa el copy de list se puede modificar el valor de las sublistas\n",
    "\n",
    "print(lista)\n",
    "\n",
    "#add2(copy.deepcopy(lista))\n",
    "#print(lista)"
   ]
  },
  {
   "cell_type": "markdown",
   "metadata": {
    "slideshow": {
     "slide_type": "subslide"
    }
   },
   "source": [
    "### Argumentos arbitrarios\n",
    "- No se sabe a priori cuantos elementos se reciben\n",
    "- Se reciben como una tupla"
   ]
  },
  {
   "cell_type": "code",
   "execution_count": 55,
   "metadata": {
    "slideshow": {
     "slide_type": "fragment"
    }
   },
   "outputs": [
    {
     "name": "stdout",
     "output_type": "stream",
     "text": [
      "Hola Manolo\n",
      "Hola Pepe\n",
      "Hola Luis\n",
      "Hola Alex\n"
     ]
    }
   ],
   "source": [
    "# Cuando se antecede el * en un parametro, \n",
    "#Se desconoce cuantos parametros se están pasando a la función}\n",
    "#que hacemos recorrer todos esos parametros para poder leerlos\n",
    "def saludar(*names):\n",
    "    for name in names:\n",
    "        print(\"Hola \" + name)\n",
    "\n",
    "saludar(\"Manolo\", \"Pepe\", \"Luis\", \"Alex\") "
   ]
  },
  {
   "cell_type": "markdown",
   "metadata": {
    "slideshow": {
     "slide_type": "subslide"
    }
   },
   "source": [
    "### Recursividad"
   ]
  },
  {
   "cell_type": "code",
   "execution_count": 59,
   "metadata": {
    "slideshow": {
     "slide_type": "fragment"
    }
   },
   "outputs": [
    {
     "name": "stdout",
     "output_type": "stream",
     "text": [
      "Cuanto vale n 3\n",
      "Cuanto vale n 2\n",
      "Cuanto vale n 1\n",
      "6\n"
     ]
    }
   ],
   "source": [
    "# funcion recursiva, se llama a si misma\n",
    "def factorial(n):      \n",
    "    if n == 0:\n",
    "        return 1\n",
    "    else:\n",
    "        print(f\"Cuanto vale n {n}\")\n",
    "        return n * factorial(n-1)\n",
    "    \n",
    "print(factorial(3))\n",
    "\n",
    "#Explicación del código primero se calcula el factorial base \n",
    "#En este caso sería el factorial de 1, ya que retorna 1\n",
    "#Al tener ese valor, podemos empezar a calcular los factoriales siguientes.t"
   ]
  },
  {
   "cell_type": "markdown",
   "metadata": {
    "slideshow": {
     "slide_type": "subslide"
    }
   },
   "source": [
    "## Funciones lambda\n",
    "- Es posible definir funciones anónimas\n",
    "- Declaración en el mismo lugar en donde se utilizan\n",
    "- Útiles cuando se quiere pasar una función como argumento a otra"
   ]
  },
  {
   "cell_type": "code",
   "execution_count": 16,
   "metadata": {
    "slideshow": {
     "slide_type": "fragment"
    }
   },
   "outputs": [
    {
     "name": "stdout",
     "output_type": "stream",
     "text": [
      "['Madrid', 'Valencia', 'Barcelona']\n"
     ]
    }
   ],
   "source": [
    "# forma general: lambda <lista de argumentos> : <valor a retornar>\n",
    "cities = ['Valencia', 'Barcelona', 'Madrid']\n",
    "cities.sort(key = lambda x : len(x))\n",
    "print(cities)"
   ]
  },
  {
   "cell_type": "code",
   "execution_count": 60,
   "metadata": {
    "slideshow": {
     "slide_type": "subslide"
    }
   },
   "outputs": [
    {
     "name": "stdout",
     "output_type": "stream",
     "text": [
      "String: Valencia + len: 8\n",
      "String: Barcelona + len: 9\n",
      "String: Madrid + len: 6\n",
      "['Madrid', 'Valencia', 'Barcelona']\n"
     ]
    }
   ],
   "source": [
    "# sin lambda\n",
    "cities = ['Valencia', 'Barcelona', 'Madrid']\n",
    "\n",
    "def cuenta(string):\n",
    "    print(f\"String: {string} + len: {len(string)}\")\n",
    "    return len(string)\n",
    "\n",
    "#Sort the list by the length of the values:\n",
    "cities.sort(key = cuenta)\n",
    "print(cities)"
   ]
  },
  {
   "cell_type": "code",
   "execution_count": 61,
   "metadata": {
    "slideshow": {
     "slide_type": "subslide"
    }
   },
   "outputs": [
    {
     "name": "stdout",
     "output_type": "stream",
     "text": [
      "6\n",
      "['Madrid', 'Valencia', 'Barcelona']\n"
     ]
    }
   ],
   "source": [
    "# se puede guardar una referencia para utilización repetida\n",
    "cities = ['Valencia', 'Barcelona', 'Madrid']\n",
    "\n",
    "f = lambda x : len(x)\n",
    "print(f('string'))\n",
    "#Sort the list by the length of the values:\n",
    "cities.sort(key = f)\n",
    "print(cities)"
   ]
  },
  {
   "cell_type": "markdown",
   "metadata": {
    "slideshow": {
     "slide_type": "subslide"
    }
   },
   "source": [
    "### Placeholders\n",
    "- pass"
   ]
  },
  {
   "cell_type": "code",
   "execution_count": 62,
   "metadata": {},
   "outputs": [],
   "source": [
    "#The pass statement is used as a placeholder for future code.\n",
    "#When the pass statement is executed, nothing happens, but you avoid getting an error when empty code is not allowed.\n",
    "#Empty code is not allowed in loops, function definitions, class definitions, or in if statements.\n",
    "\n",
    "def my_function():\n",
    "    pass\n",
    "\n",
    "my_function()"
   ]
  },
  {
   "cell_type": "markdown",
   "metadata": {
    "slideshow": {
     "slide_type": "slide"
    }
   },
   "source": [
    "# Lectura y escritura de archivos\n",
    "- Importante para almacenar datos y para guardar progreso\n",
    "- 'Streams' para lectura y escritura\n",
    " - Nombre de archivo\n",
    " - Lectura / escritura\n",
    " - Modo de acceso"
   ]
  },
  {
   "cell_type": "code",
   "execution_count": 64,
   "metadata": {
    "slideshow": {
     "slide_type": "fragment"
    }
   },
   "outputs": [
    {
     "name": "stdout",
     "output_type": "stream",
     "text": [
      "Alfred\n",
      "\n",
      "James\n",
      "\n",
      "Peter\n",
      "\n",
      "Harvey\n",
      "\n",
      "\n",
      "\n",
      "Pera\n"
     ]
    }
   ],
   "source": [
    "# leer de un archivo\n",
    "import os\n",
    "ruta = os.path.join(\"res\", \"lista_compra.txt\")\n",
    "\n",
    "fichero = open(ruta)\n",
    "\n",
    "for line in fichero:\n",
    "    print(line)\n",
    "\n",
    "#Si usamos open, siempre luego de leer el archivo debemos cerrarlo    \n",
    "fichero.close()"
   ]
  },
  {
   "cell_type": "code",
   "execution_count": 67,
   "metadata": {
    "slideshow": {
     "slide_type": "fragment"
    }
   },
   "outputs": [
    {
     "name": "stdout",
     "output_type": "stream",
     "text": [
      "['Alfred\\n', 'James\\n', 'Peter\\n', 'Harvey\\n']\n",
      "['Alfred\\n', 'James\\n', 'Peter\\n', 'Harvey\\n', '\\n', 'Pera']\n"
     ]
    }
   ],
   "source": [
    "# leer de un archivo, a una lista, todo fichero en memoria\n",
    "ruta = os.path.join(\"res\", \"lista_compra.txt\")\n",
    "fichero = open(ruta)\n",
    "#Se asigna las lineas del archivo a una lista\n",
    "#The readlines() method returns a list containing each line in the file as a list item.\n",
    "#Se puede poner el número máximo de bytes que deseamos obtener\n",
    "lines = fichero.readlines(23)\n",
    "fichero.close()\n",
    "\n",
    "print(lines)\n",
    "\n",
    "lines = open(ruta).readlines()\n",
    "print(lines)"
   ]
  },
  {
   "cell_type": "code",
   "execution_count": 24,
   "metadata": {
    "slideshow": {
     "slide_type": "fragment"
    }
   },
   "outputs": [
    {
     "name": "stdout",
     "output_type": "stream",
     "text": [
      "Carne\n",
      "\n",
      "Fruta\n",
      "\n",
      "Pescado\n",
      "\n",
      "Manzana\n",
      "\n",
      "Pera\n"
     ]
    }
   ],
   "source": [
    "# leer de un archivo, pythonic way\n",
    "#con la etiqueta with, no necesitamos luego hacer un close\n",
    "#del archivo que estamos leyendo\n",
    "with open(ruta) as f:\n",
    "    for line in f:\n",
    "        print(line)"
   ]
  },
  {
   "cell_type": "code",
   "execution_count": 25,
   "metadata": {
    "slideshow": {
     "slide_type": "fragment"
    }
   },
   "outputs": [
    {
     "name": "stdout",
     "output_type": "stream",
     "text": [
      "['Carne\\n', 'Fruta\\n', 'Pescado\\n', 'Manzana\\n', 'Pera']\n",
      "['Carne\\n', 'Fruta\\n', 'Pescado\\n', 'Manzana\\n', 'Pera']\n"
     ]
    }
   ],
   "source": [
    "#abrir varios ficheros en el mismo with\n",
    "with open(ruta) as f1, open(ruta) as f2:\n",
    "    print(f1.readlines())\n",
    "    print(f2.readlines())"
   ]
  },
  {
   "cell_type": "code",
   "execution_count": 26,
   "metadata": {
    "slideshow": {
     "slide_type": "fragment"
    }
   },
   "outputs": [
    {
     "name": "stdout",
     "output_type": "stream",
     "text": [
      "['Carne\\n', 'Fruta\\n', 'Pescado\\n', 'Manzana\\n', 'Pera']\n",
      "['Carne', 'Fruta', 'Pescado', 'Manzana', 'Pera']\n"
     ]
    }
   ],
   "source": [
    "# leer todas las líneas de una vez, y eliminar cr\n",
    "with open(ruta) as f:\n",
    "    lines = f.readlines()\n",
    "    print(lines)\n",
    "    # uso de list comprehension\n",
    "    lines_clean = [x.rstrip() for x in lines] # elimina caracter terminación de línea (\\n)\n",
    "    print(lines_clean)"
   ]
  },
  {
   "cell_type": "markdown",
   "metadata": {
    "slideshow": {
     "slide_type": "subslide"
    }
   },
   "source": [
    "### Elegir entre escritura y lectura con modo de acceso\n",
    "\n",
    "| Modo Acceso | Desc |\n",
    "|:---------|:-----|\n",
    "| r | Solo Lectura |\n",
    "| w | Solo Escritura (Borra si el archivo ya existe) |\n",
    "| x | Solo Escritura (Falla si el archivo ya existe) |\n",
    "| a | Crea Fichero (Si existe lo abre y se añade al final) |\n",
    "| r+ | Lectura y Escritura |\n",
    "| b | Se puede añadir a otros modos para acceso binario\n",
    "| t | Acceso para archivos de texto (default) |"
   ]
  },
  {
   "cell_type": "code",
   "execution_count": 27,
   "metadata": {
    "slideshow": {
     "slide_type": "fragment"
    }
   },
   "outputs": [],
   "source": [
    "# escritura a archivo\n",
    "ruta = os.path.join(\"res\", \"o_dummy.txt\")\n",
    "with open(ruta,'wt') as f:\n",
    "    f.write('Cabecera\\n')\n",
    "    #uso de list comprehension\n",
    "    #Se recorre un rango de 0 a 9, el resultado se le hace un cast a string\n",
    "    #y luego eso se guarda en el archivo\n",
    "    sequence = [str(x) + '\\n' for x in range(10)] # +cr\n",
    "    f.writelines(sequence)"
   ]
  },
  {
   "cell_type": "code",
   "execution_count": 68,
   "metadata": {
    "slideshow": {
     "slide_type": "fragment"
    }
   },
   "outputs": [
    {
     "name": "stdout",
     "output_type": "stream",
     "text": [
      "[]\n",
      "['foobar']\n"
     ]
    }
   ],
   "source": [
    "# flush\n",
    "ruta = os.path.join(\"res\", \"o_dummy.txt\")\n",
    "\n",
    "fichero_write = open(ruta, \"wt\")\n",
    "fichero_write.write('foobar')\n",
    "\n",
    "fichero_read = open(ruta, \"rt\")\n",
    "print(fichero_read.readlines())\n",
    "\n",
    "#le decimos manda lo que tienes al disco duro, para que nos permita leer lo que se acaba de escribir\n",
    "# y no esperar al close\n",
    "fichero_write.flush()\n",
    "\n",
    "print(fichero_read.readlines())\n",
    "\n",
    "fichero_write.close()\n",
    "fichero_read.close()"
   ]
  },
  {
   "cell_type": "markdown",
   "metadata": {
    "slideshow": {
     "slide_type": "subslide"
    }
   },
   "source": [
    "## Lectura y escritura de archivos 'CSV'\n",
    "- Python permite interpretar datos CSV\n",
    "- Popular formato en ciencia de datos"
   ]
  },
  {
   "cell_type": "code",
   "execution_count": 3,
   "metadata": {
    "slideshow": {
     "slide_type": "fragment"
    }
   },
   "outputs": [
    {
     "name": "stdout",
     "output_type": "stream",
     "text": [
      "['OperaciÃ³n', 'DescripciÃ³n']\n",
      "['a + b', 'suma a y b']\n",
      "['a - b', 'resta a menos b']\n",
      "['a / b', 'a dividido']\n",
      "['a // b', 'a dividido entre b (quitando decimales)']\n",
      "['a % b', 'devuelve el resto de la divisiÃ³n a/b (modulus)']\n",
      "['a * b', 'a multiplicado por b']\n",
      "['a ** b', 'a elevado a b']\n"
     ]
    }
   ],
   "source": [
    "# Tabla1.csv contiene la Tabla 1 del manual, con valores separados por comas (u otro delimitador)\n",
    "import csv\n",
    "ruta = os.path.join(\"res\", \"tabla_operaciones.csv\")\n",
    "f = open(ruta)\n",
    "data_reader = csv.reader(f, delimiter = ',')\n",
    "\n",
    "# copiar los valores de Tabla1\n",
    "ruta_o = os.path.join(\"res\", \"o_tabla_operaciones.csv\")\n",
    "with open(ruta_o, 'w') as f2:\n",
    "    #Objeto writer, creado para \n",
    "    #escribir los datos\n",
    "    csv_writer = csv.writer(f2, delimiter = '|')\n",
    "    #recorremos en una lista el contenido del primero csv\n",
    "    for line in data_reader:\n",
    "        print(line)\n",
    "        csv_writer.writerow(line)\n",
    "\n",
    "#Esta vez ocupamos close porque lo queriamos era usarlo en otro scope, en este caso fue en \n",
    "#el with\n",
    "f.close()"
   ]
  },
  {
   "cell_type": "markdown",
   "metadata": {},
   "source": [
    "# Excepciones"
   ]
  },
  {
   "cell_type": "markdown",
   "metadata": {},
   "source": [
    "* Las excepciones son eventos que representan situaciones excepcionales.\n",
    "* Alteran el flujo de ejecución convencional.\n",
    "* Python lanza excepciones automáticamente cuando se producen errores.\n",
    "* El programador puede lanzar excepciones de manera explícita y también capturar excepciones para actuar como se crea conveniente."
   ]
  },
  {
   "cell_type": "markdown",
   "metadata": {},
   "source": [
    "#### Try/except\n",
    "\n",
    "* Permite capturar excepciones y actuar en consecuencia.\n",
    "\n",
    "Ejemplo: error de acceso fuera de rango."
   ]
  },
  {
   "cell_type": "code",
   "execution_count": null,
   "metadata": {},
   "outputs": [],
   "source": [
    "lista = [6, 1, 0, 5]\n",
    "print(lista[4])\n",
    "print('Unreachable Code')"
   ]
  },
  {
   "cell_type": "code",
   "execution_count": 69,
   "metadata": {},
   "outputs": [
    {
     "name": "stdout",
     "output_type": "stream",
     "text": [
      "Exception IndexError Captured\n",
      "Reacheable Code\n"
     ]
    }
   ],
   "source": [
    "lista = [6, 1, 0, 5]\n",
    "try:\n",
    "    print(lista[4])\n",
    "except IndexError:\n",
    "    print('Exception IndexError Captured')\n",
    "    \n",
    "print('Reacheable Code')"
   ]
  },
  {
   "cell_type": "markdown",
   "metadata": {},
   "source": [
    "* Normalmente, al capturar excepciones, querremos ser lo más específicos posible, pero también se puedes usar una sentencia *try-except* que capture cualquier error."
   ]
  },
  {
   "cell_type": "code",
   "execution_count": 70,
   "metadata": {},
   "outputs": [
    {
     "name": "stdout",
     "output_type": "stream",
     "text": [
      "Division By Zero Captured\n"
     ]
    }
   ],
   "source": [
    "try:\n",
    "    4/0\n",
    "except:\n",
    "    print('Division By Zero Captured')"
   ]
  },
  {
   "cell_type": "markdown",
   "metadata": {},
   "source": [
    "#### Try/finally\n",
    "\n",
    "* A través de *finally* podemos especificar código que queremos que se ejecute siempre (independientemente de si se produce la excepción o no).\n",
    "* Se suele usar para liberar recursos."
   ]
  },
  {
   "cell_type": "code",
   "execution_count": null,
   "metadata": {},
   "outputs": [],
   "source": [
    "lista = [6, 1, 0, 5]\n",
    "\n",
    "try:\n",
    "    lista[4]\n",
    "except IndexError:\n",
    "    print('Exception IndexError Captured')    \n",
    "finally:\n",
    "    print('Finally Block')\n",
    "\n",
    "print('Reacheable Code')"
   ]
  },
  {
   "cell_type": "markdown",
   "metadata": {},
   "source": [
    "- Recoger la excepción e imprimir el mensaje de error"
   ]
  },
  {
   "cell_type": "code",
   "execution_count": 71,
   "metadata": {},
   "outputs": [
    {
     "name": "stdout",
     "output_type": "stream",
     "text": [
      "Error = list index out of range\n",
      "Reacheable Code\n"
     ]
    }
   ],
   "source": [
    "lista = [6, 1, 0, 5]\n",
    "try:\n",
    "    print(lista[4])\n",
    "except Exception as e:\n",
    "    print(\"Error = \" + str(e))\n",
    "    \n",
    "print('Reacheable Code')"
   ]
  },
  {
   "cell_type": "markdown",
   "metadata": {},
   "source": [
    "#### raise\n",
    "\n",
    "* La sentencia *raise* nos permite lanzar excepciones de manera explícita."
   ]
  },
  {
   "cell_type": "code",
   "execution_count": 72,
   "metadata": {},
   "outputs": [
    {
     "name": "stdout",
     "output_type": "stream",
     "text": [
      "Exception IndexError Captured: Index Out of Range\n"
     ]
    }
   ],
   "source": [
    "lista = [6, 1, 0, 5]\n",
    "indice = 4\n",
    "\n",
    "try:\n",
    "    if indice >= len(lista):\n",
    "        #El raise es como throw en java\n",
    "        raise IndexError('Index Out of Range')\n",
    "except IndexError as ie:\n",
    "    print('Exception IndexError Captured: ' + str(ie))  "
   ]
  },
  {
   "cell_type": "markdown",
   "metadata": {
    "slideshow": {
     "slide_type": "slide"
    }
   },
   "source": [
    "# Ejercicios\n",
    "- Errores de sintaxis, corrige el código para que sea ejecutable\n",
    "- NO comentar resultados en el foro"
   ]
  },
  {
   "cell_type": "code",
   "execution_count": 75,
   "metadata": {
    "slideshow": {
     "slide_type": "fragment"
    }
   },
   "outputs": [
    {
     "name": "stdout",
     "output_type": "stream",
     "text": [
      "{'name': ['Munir', 'Carles', 'Dorian'], 'ages': [9, 27, 87]}\n"
     ]
    }
   ],
   "source": [
    "dict1 = {'name' : ['Munir','Carles','Dorian'], 'ages' : [9,27,87]}\n",
    "print(dict1)"
   ]
  },
  {
   "cell_type": "code",
   "execution_count": 76,
   "metadata": {
    "slideshow": {
     "slide_type": "fragment"
    }
   },
   "outputs": [
    {
     "name": "stdout",
     "output_type": "stream",
     "text": [
      "{'PS4': 1.2, 'iOS': 1.2, 'Android': 1.1, 'PC': 1.0}\n"
     ]
    }
   ],
   "source": [
    "platforms = ['PS4', 'iOS', 'Android','PC']\n",
    "versions = [1.2,1.2,1.1,1.0]\n",
    "database = dict(zip(platforms,versions))\n",
    "print(database)"
   ]
  },
  {
   "cell_type": "code",
   "execution_count": 77,
   "metadata": {
    "slideshow": {
     "slide_type": "fragment"
    }
   },
   "outputs": [
    {
     "name": "stdout",
     "output_type": "stream",
     "text": [
      "{'username': ['lamb018', 'xix112']}\n"
     ]
    }
   ],
   "source": [
    "users = {'ID' : [123321,8976321], 'username': ['lamb018','xix112']}\n",
    "users.pop('ID')\n",
    "print(users)"
   ]
  },
  {
   "cell_type": "code",
   "execution_count": 84,
   "metadata": {
    "slideshow": {
     "slide_type": "fragment"
    }
   },
   "outputs": [
    {
     "data": {
      "text/plain": [
       "True"
      ]
     },
     "execution_count": 84,
     "metadata": {},
     "output_type": "execute_result"
    }
   ],
   "source": [
    "integer_numbers = {-5,-4,-3,-2,-1,0,1,2,3,4,5}\n",
    "positive_numbers = {1,2,3,4,5}\n",
    "negative_numbers = {-5,-4,-3,-2,-1}\n",
    "integer_numbers.issuperset(positive_numbers)"
   ]
  },
  {
   "cell_type": "code",
   "execution_count": 85,
   "metadata": {
    "slideshow": {
     "slide_type": "fragment"
    }
   },
   "outputs": [
    {
     "name": "stdout",
     "output_type": "stream",
     "text": [
      "True\n"
     ]
    }
   ],
   "source": [
    "if -5 in integer_numbers:\n",
    "        print('True')"
   ]
  },
  {
   "cell_type": "code",
   "execution_count": 86,
   "metadata": {
    "slideshow": {
     "slide_type": "fragment"
    }
   },
   "outputs": [
    {
     "name": "stdout",
     "output_type": "stream",
     "text": [
      "[0, 1, 2, 3, 4, 5, 6, 7, 8, 9]\n"
     ]
    }
   ],
   "source": [
    "numbers = [x for x in range(10)]\n",
    "print(numbers)"
   ]
  },
  {
   "cell_type": "code",
   "execution_count": 87,
   "metadata": {
    "slideshow": {
     "slide_type": "fragment"
    }
   },
   "outputs": [
    {
     "name": "stdout",
     "output_type": "stream",
     "text": [
      "This is a function\n"
     ]
    }
   ],
   "source": [
    "def function():\n",
    "    print('This is a function')\n",
    "    \n",
    "function()    "
   ]
  },
  {
   "cell_type": "code",
   "execution_count": 88,
   "metadata": {
    "slideshow": {
     "slide_type": "fragment"
    }
   },
   "outputs": [],
   "source": [
    "#https://bobbyhadz.com/blog/python-syntaxerror-non-default-argument-follows-default-argument#:~:text=The%20Python%20%22SyntaxError%3A%20non%2D,positional%20parameters%20of%20the%20function.\n",
    "#Siempre dejar los parametros que tenga un valor por default, hasta el final\n",
    "def sum(a,c,b=0):\n",
    "    return a+b+c"
   ]
  },
  {
   "cell_type": "code",
   "execution_count": 99,
   "metadata": {
    "slideshow": {
     "slide_type": "fragment"
    }
   },
   "outputs": [
    {
     "data": {
      "text/plain": [
       "4"
      ]
     },
     "execution_count": 99,
     "metadata": {},
     "output_type": "execute_result"
    }
   ],
   "source": [
    "#Función anónima \n",
    "#Aquí hacía falta la x luego de la palabra reserva lamdba, ya que el len necesita una variable\n",
    "#para operara\n",
    "f = lambda x : len(x)\n",
    "f(['PS4', 'iOS', 'Android','PC'])"
   ]
  },
  {
   "cell_type": "code",
   "execution_count": 100,
   "metadata": {
    "slideshow": {
     "slide_type": "fragment"
    }
   },
   "outputs": [
    {
     "name": "stdout",
     "output_type": "stream",
     "text": [
      "Alfred\n",
      "\n",
      "James\n",
      "\n",
      "Peter\n",
      "\n",
      "Harvey\n",
      "\n",
      "\n",
      "\n",
      "Pera\n"
     ]
    }
   ],
   "source": [
    "# asumir que existe un archivo 'lista_compra.txt' en donde reside el notebook\n",
    "\n",
    "f=open('res/lista_compra.txt')\n",
    "for line in f:\n",
    "    print(line)\n",
    "f.close()"
   ]
  },
  {
   "cell_type": "code",
   "execution_count": 111,
   "metadata": {
    "slideshow": {
     "slide_type": "fragment"
    }
   },
   "outputs": [],
   "source": [
    "# asumir que existe un archivo 'lista_compra.txt' en donde reside el notebook\n",
    "names = ['Alfred','James','Peter','Harvey']\n",
    "with open('res/lista_compra.txt','r+') as f:\n",
    "    #Si no leemos el acrhivo al escribir en un acrhivo que ya tiene contenido no funciona\n",
    "    #Y tiene sentido ya que debe tener en memoria cual es la ultima línea y escribir apartir de ahí\n",
    "    lines = f.readlines()\n",
    "    for name in names:\n",
    "        f.write('\\n'+name+'\\n')\n",
    "        \n"
   ]
  },
  {
   "cell_type": "code",
   "execution_count": null,
   "metadata": {},
   "outputs": [],
   "source": []
  }
 ],
 "metadata": {
  "celltoolbar": "Slideshow",
  "kernelspec": {
   "display_name": "Python 3 (ipykernel)",
   "language": "python",
   "name": "python3"
  },
  "language_info": {
   "codemirror_mode": {
    "name": "ipython",
    "version": 3
   },
   "file_extension": ".py",
   "mimetype": "text/x-python",
   "name": "python",
   "nbconvert_exporter": "python",
   "pygments_lexer": "ipython3",
   "version": "3.9.13"
  }
 },
 "nbformat": 4,
 "nbformat_minor": 4
}
