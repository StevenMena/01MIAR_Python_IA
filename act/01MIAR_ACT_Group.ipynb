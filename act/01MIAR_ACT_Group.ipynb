{
 "cells": [
  {
   "cell_type": "markdown",
   "id": "a2eea98a-4a8d-47fd-9bbf-19fa4c134d1e",
   "metadata": {},
   "source": [
    "## Actividad 01\n",
    "\n",
    "- Crear una lista con números que comiencen por 30 y que termine en 42 haciendo que el paso entre cada número consecutivo sea de 0.4. Sin usar Numpy."
   ]
  },
  {
   "cell_type": "code",
   "execution_count": 20,
   "id": "42b9466a",
   "metadata": {},
   "outputs": [
    {
     "name": "stdout",
     "output_type": "stream",
     "text": [
      "30.4\n",
      "30.799999999999997\n",
      "31.199999999999996\n",
      "31.599999999999994\n",
      "31.999999999999993\n",
      "32.39999999999999\n",
      "32.79999999999999\n",
      "33.19999999999999\n",
      "33.59999999999999\n",
      "33.999999999999986\n",
      "34.399999999999984\n",
      "34.79999999999998\n",
      "35.19999999999998\n",
      "35.59999999999998\n",
      "35.99999999999998\n",
      "36.39999999999998\n",
      "36.799999999999976\n",
      "37.199999999999974\n",
      "37.59999999999997\n",
      "37.99999999999997\n",
      "38.39999999999997\n",
      "38.79999999999997\n",
      "39.19999999999997\n",
      "39.599999999999966\n",
      "39.999999999999964\n",
      "40.39999999999996\n",
      "40.79999999999996\n",
      "41.19999999999996\n",
      "41.59999999999996\n",
      "41.99999999999996\n",
      "[30, 30.4, 30.8, 31.2, 31.6, 32.0, 32.4, 32.8, 33.2, 33.6, 34.0, 34.4, 34.8, 35.2, 35.6, 36.0, 36.4, 36.8, 37.2, 37.6, 38.0, 38.4, 38.8, 39.2, 39.6, 40.0, 40.4, 40.8, 41.2, 41.6, 42.0]\n"
     ]
    }
   ],
   "source": [
    "i = 30\n",
    "f= 42\n",
    "step = 0.4\n",
    "\n",
    "lista = [i]\n",
    "\n",
    "\n",
    "\n",
    "while i<(42.0-step):\n",
    "    i+=step\n",
    "    #print(i)\n",
    "    lista.append(round(i,1))\n",
    "\n",
    "print(lista)"
   ]
  },
  {
   "cell_type": "code",
   "execution_count": 8,
   "id": "bf8b97e1-4f7a-4aa0-87f0-ddc9313bb9d1",
   "metadata": {},
   "outputs": [
    {
     "name": "stdout",
     "output_type": "stream",
     "text": [
      "['30.0', '30.4', '30.8', '31.2', '31.6', '32.0', '32.4', '32.8', '33.2', '33.6', '34.0', '34.4', '34.8', '35.2', '35.6', '36.0', '36.4', '36.8', '37.2', '37.6', '38.0', '38.4', '38.8', '39.2', '39.6', '40.0', '40.4', '40.8', '41.2', '41.6', '42.0']\n"
     ]
    }
   ],
   "source": [
    "import math\n",
    "\n",
    "def frange (init=0,end=1,step=0.1):\n",
    "    numbers = []\n",
    "    while init < end or math.isclose(init,end): #funcion que nos sirve para comprara números reales o float por pequeñas diferencias de redondeo\n",
    "        numbers.append(init)\n",
    "        init+=step\n",
    "    return numbers\n",
    "\n",
    "print([f\"{x:.1f}\" for x in frange(30,42,0.4)])\n"
   ]
  },
  {
   "cell_type": "markdown",
   "id": "3ca8b783-fb88-4eb7-8379-3aae550d15b4",
   "metadata": {},
   "source": [
    "## Actividad 02\n",
    "\n",
    "- Dataset -> https://raw.githubusercontent.com/grammakov/USA-cities-and-states/master/us_cities_states_counties.csv\n",
    "- Header -> City|State short|State full|County|City alias\n",
    "- Obtener el número de ciudades que tiene el estado de Florida, usando dicho Dataset\n",
    "- Sin usar Pandas"
   ]
  },
  {
   "cell_type": "code",
   "execution_count": 16,
   "id": "e9fcaff1-f4c8-44b6-bf84-826558901a2f",
   "metadata": {
    "tags": []
   },
   "outputs": [
    {
     "name": "stdout",
     "output_type": "stream",
     "text": [
      "537\n",
      "['City', 'State short', 'State full', 'County', 'City alias\\n']\n",
      "537\n"
     ]
    }
   ],
   "source": [
    "import urllib\n",
    "import os\n",
    "import csv\n",
    "\n",
    "url = \"https://raw.githubusercontent.com/grammakov/USA-cities-and-states/master/us_cities_states_counties.csv\"\n",
    "\n",
    "# Devuelve un fichero desde una url como cadena de caracteres\n",
    "def read_url(url):\n",
    "    return urllib.request.urlopen(url).read().decode('utf-8')\n",
    "\n",
    "#print(read_url(url))\n",
    "\n",
    "destino = 'us_cities_states_counties.csv'\n",
    "# Descargar un fichero desde una url a una ruta local\n",
    "def download_file(url, dest):\n",
    "    urllib.request.urlretrieve(url, dest)\n",
    "    return\n",
    "\n",
    "\n",
    "ruta = os.path.join(\"../res\",destino)\n",
    "download_file(url, ruta)\n",
    "\n",
    "\n",
    "\n",
    "f = open(destino)\n",
    "data_reader = csv.reader(f, delimiter = '|')\n",
    "f.close;\n",
    "cuidades = [row[0] for row in data_reader if row[1] == 'FL']\n",
    "\n",
    "print(len(set(cuidades)))\n",
    "\n",
    "\n",
    "\n",
    "#Ojo con las cuidades repetidas    \n",
    "#Mi solución, no hay necesidad de leerlo de esta forma\n",
    "cities_list= set()\n",
    "with open(destino) as file_obj:\n",
    "      \n",
    "    # Skips the heading\n",
    "    # Using next() method\n",
    "    heading = next(file_obj)\n",
    "    headers = heading.split('|')  \n",
    "    # Create reader object by passing the file \n",
    "    # object to reader method\n",
    "    reader_obj = csv.reader(file_obj, delimiter = '|')\n",
    "    print(headers)\n",
    "    # Iterate over each row in the csv file \n",
    "    # using reader object\n",
    "    for row in reader_obj:\n",
    "        \n",
    "        index = headers.index('State full')\n",
    "        \n",
    "        if(row[index]=='Florida'):\n",
    "            cities_list.add(row[0])\n",
    "        \n",
    "        \n",
    "        #print(index)\n",
    "        #print(row)\n",
    "        \n",
    "        #mydic = dict(zip(headers,row))\n",
    "        \n",
    "\n",
    "print(len(cities_list))"
   ]
  },
  {
   "cell_type": "code",
   "execution_count": 20,
   "id": "d8b18d2c",
   "metadata": {},
   "outputs": [
    {
     "name": "stdout",
     "output_type": "stream",
     "text": [
      "537\n"
     ]
    }
   ],
   "source": [
    "#Sin usar ninguna librería\n",
    "#utilizando la función read\n",
    "contents = read_url(url)\n",
    "\n",
    "lista = contents.strip().split('\\n')\n",
    "#print(lista[1:2])\n",
    "#Ahora que tenemos en cada elemento de la fila los datos correspondientes a una cuidad\n",
    "#creamos solo una lista de cuidades que cumplan la condición\n",
    "cuidades = list(map(lambda x: x.split('|'),lista))\n",
    "#tenemos como una matriz, cada elemento es una lista ['Holtsville', 'NY', 'New York', 'SUFFOLK', 'Internal Revenue Service']\n",
    "#print(cuidades[1:3])\n",
    "lista_res = set()\n",
    "for cuidad in cuidades:\n",
    "    if(cuidad[1]=='FL'):\n",
    "        lista_res.add(cuidad[0])\n",
    "        \n",
    "print(len(lista_res))        \n"
   ]
  },
  {
   "cell_type": "code",
   "execution_count": null,
   "id": "52a73994-79f3-4cbd-9794-4c2e9b785c85",
   "metadata": {},
   "outputs": [],
   "source": []
  }
 ],
 "metadata": {
  "kernelspec": {
   "display_name": "Python 3 (ipykernel)",
   "language": "python",
   "name": "python3"
  },
  "language_info": {
   "codemirror_mode": {
    "name": "ipython",
    "version": 3
   },
   "file_extension": ".py",
   "mimetype": "text/x-python",
   "name": "python",
   "nbconvert_exporter": "python",
   "pygments_lexer": "ipython3",
   "version": "3.9.13"
  }
 },
 "nbformat": 4,
 "nbformat_minor": 5
}
