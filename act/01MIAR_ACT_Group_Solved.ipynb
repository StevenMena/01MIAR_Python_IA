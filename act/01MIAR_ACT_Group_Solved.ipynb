{
 "cells": [
  {
   "cell_type": "markdown",
   "id": "a2eea98a-4a8d-47fd-9bbf-19fa4c134d1e",
   "metadata": {},
   "source": [
    "## Actividad 01\n",
    "\n",
    "- Crear una lista con números que comiencen por 30 y que termine en 42 haciendo que el paso entre cada número consecutivo sea de 0.4. Sin usar Numpy."
   ]
  },
  {
   "cell_type": "code",
   "execution_count": null,
   "id": "1478afb6-4279-4906-a2c0-974e12f7d239",
   "metadata": {},
   "outputs": [],
   "source": [
    "import math\n",
    "\n",
    "def frange(init = 0, end = 1, step = 0.1):\n",
    "    numbers = []\n",
    "    while init < end or math.isclose(init, end):\n",
    "        numbers.append(init)\n",
    "        init += step\n",
    "    return numbers\n",
    "\n",
    "print([f\"{x:.1f}\" for x in frange(30,42,0.4)])"
   ]
  },
  {
   "cell_type": "code",
   "execution_count": null,
   "id": "2a569b49-ed38-4193-9824-ecc730e32b8b",
   "metadata": {},
   "outputs": [],
   "source": [
    "import numpy as np\n",
    "print(np.arange(30,42,0.4))"
   ]
  },
  {
   "cell_type": "markdown",
   "id": "3ca8b783-fb88-4eb7-8379-3aae550d15b4",
   "metadata": {},
   "source": [
    "## Actividad 02\n",
    "\n",
    "- Dataset -> https://raw.githubusercontent.com/grammakov/USA-cities-and-states/master/us_cities_states_counties.csv\n",
    "- Header -> City|State short|State full|County|City alias\n",
    "- Obtener el número de ciudades que tiene el estado de Florida, usando dicho Dataset\n",
    "- Sin usar Pandas"
   ]
  },
  {
   "cell_type": "code",
   "execution_count": null,
   "id": "e9fcaff1-f4c8-44b6-bf84-826558901a2f",
   "metadata": {
    "tags": []
   },
   "outputs": [],
   "source": [
    "import urllib\n",
    "\n",
    "url = \"https://raw.githubusercontent.com/grammakov/USA-cities-and-states/master/us_cities_states_counties.csv\"\n",
    "\n",
    "# Devuelve un fichero desde una url como cadena de caracteres\n",
    "def read_url(url):\n",
    "    return urllib.request.urlopen(url).read().decode('utf-8')\n",
    "\n",
    "# Descargar un fichero desde una url a una ruta local\n",
    "def download_file(url, dest):\n",
    "    urllib.request.urlretrieve(url, dest)\n",
    "    return"
   ]
  },
  {
   "cell_type": "code",
   "execution_count": null,
   "id": "8fa0e6ef-feeb-4134-a56d-58523f8eddd2",
   "metadata": {},
   "outputs": [],
   "source": [
    "contents = read_url(url)\n",
    "lista = contents.strip().split('\\n')\n",
    "ciudades = list(map(lambda x: x.split('|'), lista))\n",
    "\n",
    "lista_res = set()\n",
    "for ciudad in ciudades:\n",
    "    if ciudad[1]=='FL':\n",
    "        lista_res.add(ciudad[0])\n",
    "        \n",
    "print(len(lista_res))"
   ]
  },
  {
   "cell_type": "code",
   "execution_count": null,
   "id": "68463e65-2520-4c28-8a39-3cee4bc09707",
   "metadata": {},
   "outputs": [],
   "source": [
    "import csv\n",
    "import os\n",
    "\n",
    "ruta = os.path.join('cities.csv')\n",
    "download_file(url,ruta)\n",
    "\n",
    "reader = csv.DictReader(open(ruta, 'rt'), delimiter='|')\n",
    "ciudades = [row['City'] for row in reader if row['State short'] == 'FL']\n",
    "print(len(set(ciudades)))"
   ]
  },
  {
   "cell_type": "code",
   "execution_count": null,
   "id": "be7d10c8-cdd3-473e-bb7c-6730441217a1",
   "metadata": {},
   "outputs": [],
   "source": [
    "import pandas as pd\n",
    "\n",
    "df = pd.read_table(url, sep='|')\n",
    "print(len(df[df['State short'] == 'FL'].groupby('City')))"
   ]
  }
 ],
 "metadata": {
  "kernelspec": {
   "display_name": "Python 3 (ipykernel)",
   "language": "python",
   "name": "python3"
  },
  "language_info": {
   "codemirror_mode": {
    "name": "ipython",
    "version": 3
   },
   "file_extension": ".py",
   "mimetype": "text/x-python",
   "name": "python",
   "nbconvert_exporter": "python",
   "pygments_lexer": "ipython3",
   "version": "3.9.1"
  }
 },
 "nbformat": 4,
 "nbformat_minor": 5
}
