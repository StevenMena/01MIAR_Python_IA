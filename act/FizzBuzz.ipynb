{
 "cells": [
  {
   "cell_type": "code",
   "execution_count": null,
   "id": "257772be-bd19-4217-9311-e8febfd97746",
   "metadata": {},
   "outputs": [],
   "source": [
    "for num in range(1,100):\n",
    "    if num % 3 == 0 and num % 5 == 0:\n",
    "        print(f'Fizzbuzz', end = \" \"',')\n",
    "    elif num % 3 == 0:\n",
    "        print(f'Fizz', end = \" \"',')\n",
    "    elif num % 5 == 0:\n",
    "        print(f'buzz', end = \" \"',')\n",
    "    else:\n",
    "        print(f'{num}', end = \" \"',')"
   ]
  },
  {
   "cell_type": "code",
   "execution_count": null,
   "id": "83d1fba7-defd-4b62-a0d0-65032df30cb2",
   "metadata": {},
   "outputs": [],
   "source": [
    "def fizzbuzz_filter(x):\n",
    "    if x%3==0 or x%5==0:\n",
    "        return \"Fizz\"*(not x%3) + \"Buzz\"*(not x%5)\n",
    "    else:\n",
    "        return x\n",
    "\n",
    "lista = list(map(fizzbuzz_filter,list(range(1,100))))\n",
    "# lista[0] = 0\n",
    "\n",
    "print(lista)"
   ]
  },
  {
   "cell_type": "code",
   "execution_count": null,
   "id": "d0d2ae73-12c3-40bd-9800-85dc6f695f64",
   "metadata": {},
   "outputs": [],
   "source": [
    "print(\",\".join([\"FizzBuzz\" if x % 3 == 0 and x % 5 == 0 else \"Fizz\" if x % 3 == 0 else \"Buzz\" if x % 5 == 0 else str(x) for x in range(1,100)]))"
   ]
  },
  {
   "cell_type": "code",
   "execution_count": null,
   "id": "9cb7ecc5-8550-43c5-b4da-f8f67a635767",
   "metadata": {
    "tags": []
   },
   "outputs": [],
   "source": [
    "for dato1 in [\"FizzBuzz\" if not valor1 % 15 else \"Buzz\" if not valor1 % 5 else \"Fizz\" if not valor1 % 3 else valor1 for valor1 in range(1,100)]:\n",
    "    print(dato1)"
   ]
  },
  {
   "cell_type": "code",
   "execution_count": null,
   "id": "34ca6087-8526-492d-8287-6ad5ec9608b1",
   "metadata": {},
   "outputs": [],
   "source": [
    "lista3 = list(range(0,100))\n",
    "\n",
    "for im3 in range(0,100,3):\n",
    "    lista3[im3] = 'Fizz'\n",
    "\n",
    "for im5 in range(0,100,5):\n",
    "    lista3[im5] = 'Buzz'\n",
    "\n",
    "for im15 in range(0,100,15):\n",
    "    lista3[im15] = 'FizzBuzz'\n",
    "\n",
    "print(lista3)"
   ]
  },
  {
   "cell_type": "code",
   "execution_count": null,
   "id": "579dc3af-df2a-4165-892a-52b6c02a81a1",
   "metadata": {
    "tags": []
   },
   "outputs": [],
   "source": [
    "for i in range(1,30):\n",
    "    fizz = 'Fizz' if i % 3 == 0 else ''\n",
    "    buzz = 'Buzz' if i % 5 == 0 else ''\n",
    "    print(f\"{fizz}{buzz}\" or i)"
   ]
  },
  {
   "cell_type": "code",
   "execution_count": null,
   "id": "bb88e587-f055-43dd-a1fd-594aaca83e2b",
   "metadata": {},
   "outputs": [],
   "source": [
    "print(*map(lambda i: 'Fizz' * (not i%3) + 'Buzz' * (not i%5) or i, range(1,30)))"
   ]
  }
 ],
 "metadata": {
  "kernelspec": {
   "display_name": "Python 3 (ipykernel)",
   "language": "python",
   "name": "python3"
  },
  "language_info": {
   "codemirror_mode": {
    "name": "ipython",
    "version": 3
   },
   "file_extension": ".py",
   "mimetype": "text/x-python",
   "name": "python",
   "nbconvert_exporter": "python",
   "pygments_lexer": "ipython3",
   "version": "3.9.1"
  }
 },
 "nbformat": 4,
 "nbformat_minor": 5
}
