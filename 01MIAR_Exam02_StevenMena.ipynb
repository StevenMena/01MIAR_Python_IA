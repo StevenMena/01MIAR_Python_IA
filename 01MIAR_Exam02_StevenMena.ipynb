{
  "cells": [
    {
      "cell_type": "markdown",
      "metadata": {
        "id": "view-in-github",
        "colab_type": "text"
      },
      "source": [
        "<a href=\"https://colab.research.google.com/github/StevenMena/01MIAR_Python_IA/blob/main/01MIAR_Exam02_StevenMena.ipynb\" target=\"_parent\"><img src=\"https://colab.research.google.com/assets/colab-badge.svg\" alt=\"Open In Colab\"/></a>"
      ]
    },
    {
      "cell_type": "markdown",
      "id": "cb4ce55f-c353-45d9-a0ef-c2750e85d76d",
      "metadata": {
        "id": "cb4ce55f-c353-45d9-a0ef-c2750e85d76d"
      },
      "source": [
        "# Examen Segunda Convocatoria"
      ]
    },
    {
      "cell_type": "code",
      "execution_count": 3,
      "id": "671f00d7-26e0-48d9-88fd-65963c684c14",
      "metadata": {
        "id": "671f00d7-26e0-48d9-88fd-65963c684c14"
      },
      "outputs": [],
      "source": [
        "# Your imports HERE !!!!\n",
        "import numpy as np\n",
        "import pandas as pd\n",
        "import matplotlib.pyplot as plt\n"
      ]
    },
    {
      "cell_type": "markdown",
      "id": "d9c0e9c1-1a49-422e-8185-7e98384d36b5",
      "metadata": {
        "tags": [],
        "id": "d9c0e9c1-1a49-422e-8185-7e98384d36b5"
      },
      "source": [
        "## 01 - 1pt\n",
        "- Crear una función que devuelva si un año es bisiesto o no\n",
        "- Un año es bisiesto si es divisible entre 4, excepto aquellos divisibles entre 100 pero no entre 400"
      ]
    },
    {
      "cell_type": "code",
      "execution_count": 14,
      "id": "464e7564-1460-4006-8cde-71d6c07a92bc",
      "metadata": {
        "id": "464e7564-1460-4006-8cde-71d6c07a92bc"
      },
      "outputs": [],
      "source": [
        "leaps = [year for year in range(0, 2021) if is_leap(year)]  # This calls your function is_leap\n",
        "assert(len(leaps) == 491)  # This will fail if the number of leap years from year 0 is not 491"
      ]
    },
    {
      "cell_type": "code",
      "execution_count": 13,
      "id": "963cf49b-1f1f-4cad-b3b9-2445f82baf0a",
      "metadata": {
        "id": "963cf49b-1f1f-4cad-b3b9-2445f82baf0a"
      },
      "outputs": [],
      "source": [
        "# Your solution HERE !!!!\n",
        "def is_leap(year):\n",
        "  if year % 4 == 0 and (year % 100 != 0 or year % 400 == 0):\n",
        "      return True\n",
        "  else:\n",
        "      return False\n"
      ]
    },
    {
      "cell_type": "markdown",
      "id": "5a8a3b4a-913b-4ab5-9998-59981154f228",
      "metadata": {
        "tags": [],
        "id": "5a8a3b4a-913b-4ab5-9998-59981154f228"
      },
      "source": [
        "## 02 - 1pt\n",
        "- Resolución de dos sistemas de ecuaciones\n",
        "    - $ A : \\begin{cases} 8x +  2y = 11 \\\\ -3y + 10x = 44                         \\end{cases}$\n",
        "    \n",
        "    - $ B : \\begin{cases} -4z + y = 5 \\\\ 3y + 2z = -2 \\\\ -x -z + 2y = -1 \\end{cases}$\n",
        "- Verifica por código los resultados"
      ]
    },
    {
      "cell_type": "code",
      "execution_count": 17,
      "id": "563e1718-5a41-4798-ad4f-70434a5667c4",
      "metadata": {
        "colab": {
          "base_uri": "https://localhost:8080/"
        },
        "id": "563e1718-5a41-4798-ad4f-70434a5667c4",
        "outputId": "9de255eb-89b7-4b79-d905-eb93c1955ad0"
      },
      "outputs": [
        {
          "output_type": "stream",
          "name": "stdout",
          "text": [
            "x=0.2558139534883721, y=4.476744186046512\n",
            "x=2.5, y=0.14285714285714285, z=-1.2142857142857142\n"
          ]
        }
      ],
      "source": [
        "# Your solution HERE !!!!\n",
        "#Sistema A\n",
        "a = np.array([ [8,2],[-3,10] ])\n",
        "b  = np.array([11,44])\n",
        "x,y = np.linalg.solve(a,b)\n",
        "print('x=' + str(x) + ', y=' + str(y))\n",
        "\n",
        "\n",
        "#Sistema B\n",
        "A = np.array([[0, 1, -4], [0, 3, 2], [-1, 2, -1]])\n",
        "B = np.array([5, -2, -1])\n",
        "xb,yb,zb = np.linalg.inv(A).dot(B)\n",
        "\n",
        "print('x=' + str(xb) + ', y=' + str(yb) + ', z=' + str(zb))"
      ]
    },
    {
      "cell_type": "markdown",
      "id": "613d5513-f1a0-41b4-98d9-0f43d8303109",
      "metadata": {
        "tags": [],
        "id": "613d5513-f1a0-41b4-98d9-0f43d8303109"
      },
      "source": [
        "## 03 - 1pt\n",
        "- Dadas dos Series de Pandas, implementar una función 'find_not_common' para encontrar los elementos no comunes a ambas Series"
      ]
    },
    {
      "cell_type": "code",
      "execution_count": 35,
      "id": "f61b0f0f-2dfd-4cf8-920f-f49b6c579960",
      "metadata": {
        "id": "f61b0f0f-2dfd-4cf8-920f-f49b6c579960"
      },
      "outputs": [],
      "source": [
        "p1 = pd.Series([2, 4, 12, 6, 8, 10])\n",
        "p2 = pd.Series([8, 10, 12, 10, 14, 2, 16, 10])\n",
        "expected_not_common = pd.Series([4, 6, 14, 16])\n",
        "\n",
        "not_common = find_not_common(p1, p2)  # This calls tour function find_not_common\n",
        "not_common.index = np.arange(0, len(not_common))\n",
        "\n",
        "assert(not_common.equals(expected_not_common)) # This fails if the result is not as expected"
      ]
    },
    {
      "cell_type": "code",
      "execution_count": 29,
      "id": "305d0d60-61e5-40a7-91b5-4f9f9f89a88a",
      "metadata": {
        "id": "305d0d60-61e5-40a7-91b5-4f9f9f89a88a"
      },
      "outputs": [],
      "source": [
        "# Your solution HERE !!!!\n",
        "\n",
        "def find_not_common(sr1,sr2):\n",
        "  sr11 = pd.Series(np.union1d(sr1, sr2))\n",
        "  sr22 = pd.Series(np.intersect1d(sr1, sr2))\n",
        "  return sr11[~sr11.isin(sr22)]\n",
        "\n",
        "\n",
        "#return pd.Series(list(set(p1) & set(p2)))  \n",
        "  "
      ]
    },
    {
      "cell_type": "markdown",
      "id": "70a4ae51-7d2d-4b69-9cf4-29fa2bdefd94",
      "metadata": {
        "id": "70a4ae51-7d2d-4b69-9cf4-29fa2bdefd94"
      },
      "source": [
        "## 04 - 1pt\n",
        "- Crear un array de NumPy de dimensiones 5x3, con números enteros aleatorios en el rango [-10, 10]\n",
        "- Reemplazar todos los valores impares por 0, y todos los valores pares positivos por 1, y los pares negativos por Nan\n",
        "- Averiguar cuantos elementos tienen Nan por fila"
      ]
    },
    {
      "cell_type": "code",
      "execution_count": 38,
      "id": "c675c93f-89af-4518-b676-b46ce59407f5",
      "metadata": {
        "colab": {
          "base_uri": "https://localhost:8080/",
          "height": 408
        },
        "id": "c675c93f-89af-4518-b676-b46ce59407f5",
        "outputId": "dae51856-7983-4b96-e6b4-473a9bb60456"
      },
      "outputs": [
        {
          "output_type": "stream",
          "name": "stdout",
          "text": [
            "[[-3 -2  4]\n",
            " [-4  4 -4]\n",
            " [-8 -2  5]\n",
            " [ 2  7 -6]\n",
            " [-2 -6 -9]]\n",
            "[[ 0 -2  4]\n",
            " [-4  4 -4]\n",
            " [-8 -2  0]\n",
            " [ 2  0 -6]\n",
            " [-2 -6  0]]\n"
          ]
        },
        {
          "output_type": "error",
          "ename": "ValueError",
          "evalue": "ignored",
          "traceback": [
            "\u001b[0;31m---------------------------------------------------------------------------\u001b[0m",
            "\u001b[0;31mValueError\u001b[0m                                Traceback (most recent call last)",
            "\u001b[0;32m<ipython-input-38-3af35908db57>\u001b[0m in \u001b[0;36m<module>\u001b[0;34m\u001b[0m\n\u001b[1;32m      6\u001b[0m \u001b[0mprint\u001b[0m\u001b[0;34m(\u001b[0m\u001b[0mmask_1\u001b[0m\u001b[0;34m)\u001b[0m\u001b[0;34m\u001b[0m\u001b[0;34m\u001b[0m\u001b[0m\n\u001b[1;32m      7\u001b[0m \u001b[0;34m\u001b[0m\u001b[0m\n\u001b[0;32m----> 8\u001b[0;31m \u001b[0mmask_2\u001b[0m \u001b[0;34m=\u001b[0m \u001b[0mnp\u001b[0m\u001b[0;34m.\u001b[0m\u001b[0mwhere\u001b[0m\u001b[0;34m(\u001b[0m\u001b[0;34m(\u001b[0m\u001b[0mmask_1\u001b[0m \u001b[0;34m%\u001b[0m \u001b[0;36m2\u001b[0m \u001b[0;34m==\u001b[0m\u001b[0;36m0\u001b[0m \u001b[0;34m&\u001b[0m \u001b[0mmask_1\u001b[0m\u001b[0;34m>\u001b[0m\u001b[0;36m0\u001b[0m\u001b[0;34m)\u001b[0m\u001b[0;34m,\u001b[0m \u001b[0;36m1\u001b[0m\u001b[0;34m,\u001b[0m \u001b[0mnp\u001b[0m\u001b[0;34m.\u001b[0m\u001b[0mnp\u001b[0m\u001b[0;34m.\u001b[0m\u001b[0mnan\u001b[0m\u001b[0;34m)\u001b[0m\u001b[0;34m\u001b[0m\u001b[0;34m\u001b[0m\u001b[0m\n\u001b[0m\u001b[1;32m      9\u001b[0m \u001b[0mprint\u001b[0m\u001b[0;34m(\u001b[0m\u001b[0mmask_2\u001b[0m\u001b[0;34m)\u001b[0m\u001b[0;34m\u001b[0m\u001b[0;34m\u001b[0m\u001b[0m\n\u001b[1;32m     10\u001b[0m \u001b[0;34m\u001b[0m\u001b[0m\n",
            "\u001b[0;31mValueError\u001b[0m: The truth value of an array with more than one element is ambiguous. Use a.any() or a.all()"
          ]
        }
      ],
      "source": [
        "# Your solution HERE !!!!\n",
        "rand_matrix_4 = np.random.randint(low=-10,high=10,size=(5,3))\n",
        "print(rand_matrix_4)\n",
        "\n",
        "mask_1 = np.where(rand_matrix_4 % 2 ==0, rand_matrix_4, 0)\n",
        "print(mask_1)\n",
        "\n",
        "mask_2 = np.where((mask_1 % 2 ==0 & mask_1>0), 1, np.np.nan)\n",
        "print(mask_2)\n",
        "\n",
        "\n",
        "\n",
        "\n",
        "\n",
        "#Averiguar cuantos elementos tienen Nan por fila\n",
        "#df = pd.DataFrame(mask_3)\n",
        "#print(df.isnull().sum(axis=1))\n",
        "\n",
        "#last_mask = np.where(np.isnan(mask_3), 0, mask_3)\n",
        "\n",
        "#print(last_mask)\n",
        "\n",
        "\n"
      ]
    },
    {
      "cell_type": "markdown",
      "id": "2a06efaa-bf48-41d2-8915-57a28c58bd1e",
      "metadata": {
        "tags": [],
        "id": "2a06efaa-bf48-41d2-8915-57a28c58bd1e"
      },
      "source": [
        "## 05 - 1pt\n",
        "- Dado un diccionario con una lista de nombres de películas y al año concatenado, crear una función que devuelva un DataFrame con dos columnas:\n",
        "  - Columna 1, el nombre de la película sin el año\n",
        "  - Columna 2, el año de la película"
      ]
    },
    {
      "cell_type": "code",
      "execution_count": null,
      "id": "249b3861-d410-4703-97e3-f612b9630f9c",
      "metadata": {
        "id": "249b3861-d410-4703-97e3-f612b9630f9c"
      },
      "outputs": [],
      "source": [
        "movies = {'Name': [\"Matrix - 1999\", \"Cadena Perpetua - 1994\", \"Parasitos - 2019\", \"Vengadores, Endgame - 2019\", \"Interstellar - 2014\", \n",
        "                   \"Django Desencadenado - 2012\", \"El Padrino - 1972\", \"El Caballero Oscuro - 2008\", \"Erase Una Vez En America - 1984\", \n",
        "                   \"El Senyor de los Anillos, La Comunidad del Anillo - 2001\"]}\n",
        "expected_output = pd.DataFrame({'Name':[\"Matrix\", \"Cadena Perpetua\", \"Parasitos\", \"Vengadores, Endgame\", \"Interstellar\", \"Django Desencadenado\", \n",
        "                                        \"El Padrino\", \"El Caballero Oscuro\", \"Erase Una Vez En America\", \"El Senyor de los Anillos, La Comunidad del Anillo\"],\n",
        "                                'Year':[\"1999\", \"1994\", \"2019\", \"2019\", \"2014\", \"2012\", \"1972\", \"2008\", \"1984\", \"2001\"]})\n",
        "output = extract_year(movies)   # This will call your function extract_year\n",
        "assert(expected_output.equals(output))  # This will fail if the result is not as expected"
      ]
    },
    {
      "cell_type": "code",
      "execution_count": null,
      "id": "fe8e03f4-1a07-4bd3-8975-644f54a02992",
      "metadata": {
        "tags": [],
        "id": "fe8e03f4-1a07-4bd3-8975-644f54a02992"
      },
      "outputs": [],
      "source": [
        "# Your solution HERE !!!!\n",
        "\n"
      ]
    },
    {
      "cell_type": "markdown",
      "id": "116e331a-6b31-4c79-9049-3934b65b5dc2",
      "metadata": {
        "tags": [],
        "id": "116e331a-6b31-4c79-9049-3934b65b5dc2"
      },
      "source": [
        "## 06 - 3pt\n",
        "- Se tienen tres datasets, se adjuntan sus datos como diccionarios\n",
        "  - Students, representa un conjunto de alumnos, con sus nombres, edad y sexo\n",
        "  - Subjects, un conjunto de asignaturas, con su nombre y el semestre en que se imparten\n",
        "  - Marks, un conjunto de notas que han obtenido los alumnos en las asignaturas\n",
        "- Obtener la siguiente información usando Pandas\n",
        "  - Los nombres del alumno con la peor nota, y en que asignatura ha sido\n",
        "  - Cuantos alumnos tienen asignaturas aprobadas en el primer semestre\n",
        "  - La media de edad de los asistentes a la asignatura de Math\n",
        "  - Formar una palabra con las iniciales de los nombres de los estudiantes ordenados por edad descendente, menores de 50 años\n",
        "- Representar graficamente\n",
        "  - Las notas medias de todos los estudiantes por asignatura, agrupando por sexo\n",
        "  - La densidad bivariable de la edad de los estudiantes frente a sus notas, agrupando por sexo (mostrando los datos de dispersion en la zona central, las curvas de densidad en los ejes)"
      ]
    },
    {
      "cell_type": "code",
      "execution_count": null,
      "id": "61d25d08-6539-4b9a-8119-41362676f076",
      "metadata": {
        "id": "61d25d08-6539-4b9a-8119-41362676f076"
      },
      "outputs": [],
      "source": [
        "students = {'StudentId': [1,2,3,4,5,6], 'Name' : ['Philip','Max','Yamileh','Nathan','Uma','Paula'], 'Age' : [22,31,19,44,39,51], 'Sex' : ['M', 'M', 'F', 'M', 'F', 'F']}\n",
        "subjects = {'SubjectId': [1,2,3], 'Name': ['Python', 'Math', 'DeepLearning'], 'Semester': [1, 1, 2]}\n",
        "marks = {'StudentId' : [2,2,1,3,6,4,4,3,2,5], 'SubjectId' : [1,3,1,2,1,2,3,1,2,1], 'Mark': [6,5,8,3,5,1,7,2,4,6]}"
      ]
    },
    {
      "cell_type": "code",
      "execution_count": null,
      "id": "75073c17-d53d-4aaa-b621-bc750b1948e3",
      "metadata": {
        "id": "75073c17-d53d-4aaa-b621-bc750b1948e3"
      },
      "outputs": [],
      "source": [
        "# Your solution HERE !!!!"
      ]
    },
    {
      "cell_type": "markdown",
      "id": "4fda08e5-5eac-4ef1-a342-cd5600126499",
      "metadata": {
        "id": "4fda08e5-5eac-4ef1-a342-cd5600126499"
      },
      "source": [
        "## 07 - 1pt\n",
        "- Escribir una función 'prime_number' que cada vez que se invoque devuelva el siguiente número primo,  empezando por el 2, hasta cualquier número infinito. Usando plain Python, sin ninguna librería.  Primo es aquel número natural mayor que 1, que solo es divisible por 1 y por si mismo."
      ]
    },
    {
      "cell_type": "code",
      "execution_count": null,
      "id": "9c63dcac-bd06-4027-b746-8d8ac215e06a",
      "metadata": {
        "id": "9c63dcac-bd06-4027-b746-8d8ac215e06a"
      },
      "outputs": [],
      "source": [
        "expected_output = [2, 3, 5, 7, 11, 13, 17, 19, 23, 29]\n",
        "g = prime_number()  # This calls your function prime_number\n",
        "output = [next(g) for n in range(len(expected_output))]\n",
        "assert(expected_output == output)  # This will fail if the output is not as expected"
      ]
    },
    {
      "cell_type": "code",
      "execution_count": null,
      "id": "7e08a7d7-813b-41e5-9b9a-d81f87ab9319",
      "metadata": {
        "id": "7e08a7d7-813b-41e5-9b9a-d81f87ab9319"
      },
      "outputs": [],
      "source": [
        "# Your solution HERE !!!!"
      ]
    },
    {
      "cell_type": "markdown",
      "id": "072b0334-9561-44f9-8295-c13a286a1331",
      "metadata": {
        "tags": [],
        "id": "072b0334-9561-44f9-8295-c13a286a1331"
      },
      "source": [
        "## 08 - 1pt\n",
        "- Crear una lista aleatoria de 30 edades entre 0 y 99 años\n",
        "- Discretizar dichas edades en 6 categorías distribuidas con rangos homogéneos (similar cantidad de valores en cada categoría)\n",
        "- Mostrar las categorías creadas y cuantos elementos hay en cada una de ellas"
      ]
    },
    {
      "cell_type": "code",
      "execution_count": null,
      "id": "294eca4d-5c85-44e8-b517-acca56f380cc",
      "metadata": {
        "id": "294eca4d-5c85-44e8-b517-acca56f380cc"
      },
      "outputs": [],
      "source": [
        "# Your solution HERE !!!!\n",
        "\n"
      ]
    }
  ],
  "metadata": {
    "kernelspec": {
      "display_name": "Python 3 (ipykernel)",
      "language": "python",
      "name": "python3"
    },
    "language_info": {
      "codemirror_mode": {
        "name": "ipython",
        "version": 3
      },
      "file_extension": ".py",
      "mimetype": "text/x-python",
      "name": "python",
      "nbconvert_exporter": "python",
      "pygments_lexer": "ipython3",
      "version": "3.9.13"
    },
    "colab": {
      "provenance": [],
      "include_colab_link": true
    }
  },
  "nbformat": 4,
  "nbformat_minor": 5
}